{
 "cells": [
  {
   "cell_type": "markdown",
   "metadata": {},
   "source": [
    "# Introduction\n",
    "\n",
    "Google has spent over 1.1 Billion dollars on self driving cars. Uber has 1.5 Billion dollars allocated to self driving cars. Tesla has already built a sort of car autopilot into their vehicles. Self driving cars are on there way, but how do you build one?\n",
    "\n",
    "There are two components to a self driving vehicle: the hardware (which we will ignore) and the software. Part of that software is noting other bodies moving through space, and part of that software is knowing and following the rules of the road.\n",
    "\n",
    "My final capstone looks at how to quickly read road signs so as to be able to make snap driving decisions in high intesnsity situations. I am primarily focused on a type of machine learning model known as Convolutional Neural Networks. This project focuses on altering kernels and density layer neurons to increase accuracy while not sacrificing computational time.\n",
    "\n",
    "The metrics I will be watching most closely are test loss and test accuracy. The lower the test loss, the more accurate our model. The closer to one our test accuracy is , the more accurate the model is. "
   ]
  },
  {
   "cell_type": "code",
   "execution_count": 1,
   "metadata": {},
   "outputs": [
    {
     "name": "stderr",
     "output_type": "stream",
     "text": [
      "C:\\Users\\mattb\\AppData\\Local\\Continuum\\anaconda3\\envs\\tensorenv\\lib\\site-packages\\h5py\\__init__.py:36: FutureWarning: Conversion of the second argument of issubdtype from `float` to `np.floating` is deprecated. In future, it will be treated as `np.float64 == np.dtype(float).type`.\n",
      "  from ._conv import register_converters as _register_converters\n",
      "Using TensorFlow backend.\n"
     ]
    }
   ],
   "source": [
    "import numpy as np\n",
    "import pandas as pd \n",
    "import pickle\n",
    "from numba import jit, cuda\n",
    "from math import sqrt, ceil\n",
    "from timeit import default_timer as timer\n",
    "import matplotlib.pyplot as plt\n",
    "from keras.utils.np_utils import to_categorical\n",
    "from keras.models import Model\n",
    "from keras.models import Sequential\n",
    "from keras import layers\n",
    "from keras.layers import Input, Dense, Dropout, Flatten, Conv1D, Conv2D, MaxPool2D, AvgPool2D, BatchNormalization, Reshape\n",
    "from keras.preprocessing.image import ImageDataGenerator\n",
    "from keras.callbacks import LearningRateScheduler\n",
    "import keras.metrics\n",
    "import pandas as pd\n",
    "import numpy as np\n",
    "import seaborn as sns\n",
    "from IPython.display import Image\n",
    "from PIL import Image as pil_image\n",
    "from keras.preprocessing.image import save_img\n",
    "from keras.applications import vgg16\n",
    "from keras import backend as K\n",
    "from keras.utils import plot_model\n",
    "import time\n",
    "import os"
   ]
  },
  {
   "cell_type": "code",
   "execution_count": 5,
   "metadata": {},
   "outputs": [],
   "source": [
    "\n",
    "for dirname, _, filenames in os.walk('../input'):\n",
    "    for filename in filenames:\n",
    "        print(os.path.join(dirname, filename))\n"
   ]
  },
  {
   "cell_type": "code",
   "execution_count": 6,
   "metadata": {},
   "outputs": [],
   "source": [
    "\n",
    "with open('data2.pickle', 'rb') as f:\n",
    "    data = pickle.load(f, encoding='latin1')\n",
    "\n",
    "y_train = to_categorical(data['y_train'], num_classes=43)\n",
    "y_validation = to_categorical(data['y_validation'], num_classes=43)\n",
    "y_test = data['y_test']\n",
    "\n",
    "x_train = data['x_train'].transpose(0, 2, 3, 1)\n",
    "x_validation = data['x_validation'].transpose(0, 2, 3, 1)\n",
    "x_test = data['x_test'].transpose(0, 2, 3, 1)\n",
    "\n",
    "# x_train: (86989, 32, 32, 3)\n",
    "# y_train: (86989, 43)\n",
    "# x_test: (12630, 32, 32, 3)\n",
    "# y_test: (12630,)\n",
    "# x_validation: (4410, 32, 32, 3)\n",
    "# y_validation: (4410, 43)\n",
    "# labels: 43"
   ]
  },
  {
   "cell_type": "markdown",
   "metadata": {},
   "source": [
    "# Modeling Experimentation\n",
    "\n",
    "For this project, I focused on experimenting with layers to optimize my model. I started with a functional model and then began working with a sequential model. I used different layers like density layers, activation layers, addition layers, normalization layers, flatten layers and maxpool layers. I used the time it took to fit a model to measure the complexity of the model. In experimenting with my models, the longer the model took to fit, the longer it took to classify an image. I used test loss and test accuracy as my two main metrics for measuring success. "
   ]
  },
  {
   "cell_type": "markdown",
   "metadata": {},
   "source": [
    "# My Base Model\n",
    "\n",
    "This layer formation is the minimum number of layers in order to successfully create a model. I built off of these layers for the rest of the project. I started with kernel size 10 and filters set at 32. I will go on to experiment with kernels later. With 456 seconds as my base line fit time and 1.85 test loss and .77 test accuracy, I will go on to compare other models to this one."
   ]
  },
  {
   "cell_type": "code",
   "execution_count": 46,
   "metadata": {},
   "outputs": [],
   "source": [
    "input_tensor = Input(shape=(32, 32, 3))\n",
    "output_tensor = Conv2D(32, kernel_size=10, padding='same', activation='relu',\n",
    "                input_shape=(32, 32, 3))(input_tensor)\n",
    "output_2 = Flatten()(output_tensor)\n",
    "output_3 = Dense(43, activation='softmax')(output_2)\n",
    "\n",
    "\n",
    "model = Model(input_tensor, output_3)\n",
    "\n",
    "model.compile(optimizer='adam', loss='categorical_crossentropy',\n",
    "             metrics=['accuracy'])"
   ]
  },
  {
   "cell_type": "code",
   "execution_count": 47,
   "metadata": {},
   "outputs": [
    {
     "name": "stdout",
     "output_type": "stream",
     "text": [
      "--- 456.1027526855469 seconds ---\n"
     ]
    }
   ],
   "source": [
    "start_time = time.time()\n",
    "model.fit(x_train, y_train, batch_size=5, epochs = 1, validation_data =\n",
    "         (x_validation, y_validation), verbose=0)\n",
    "print(\"--- %s seconds ---\" % (time.time() - start_time))"
   ]
  },
  {
   "cell_type": "code",
   "execution_count": 48,
   "metadata": {},
   "outputs": [
    {
     "name": "stdout",
     "output_type": "stream",
     "text": [
      "Test loss: 1.85465846905092\n",
      "Test accuracy: 0.7705215418690187\n"
     ]
    }
   ],
   "source": [
    "score = model.evaluate(x_validation, y_validation, verbose=0)\n",
    "print('Test loss:', score[0])\n",
    "print('Test accuracy:', score[1])"
   ]
  },
  {
   "cell_type": "markdown",
   "metadata": {},
   "source": [
    "Below is a visualization of my model. The layers are all activated in sequence."
   ]
  },
  {
   "cell_type": "code",
   "execution_count": 49,
   "metadata": {},
   "outputs": [],
   "source": [
    "plot_model(model, to_file='model1.png')"
   ]
  },
  {
   "cell_type": "code",
   "execution_count": 91,
   "metadata": {},
   "outputs": [
    {
     "data": {
      "image/png": "[encoded data removed]",
      "text/plain": [
       "<IPython.core.display.Image object>"
      ]
     },
     "execution_count": 91,
     "metadata": {},
     "output_type": "execute_result"
    }
   ],
   "source": [
    "Image(\"model1.png\")"
   ]
  },
  {
   "cell_type": "markdown",
   "metadata": {},
   "source": [
    "# Model 2: Playing with Filters\n",
    "\n",
    "Here I increased the filters to 64. The time to fit increased significantly, but the test loss dropped and the accuracy increased, which are both good signs."
   ]
  },
  {
   "cell_type": "code",
   "execution_count": 50,
   "metadata": {},
   "outputs": [],
   "source": [
    "input_tensor = Input(shape=(32, 32, 3))\n",
    "output_tensor = Conv2D(64, kernel_size=10, padding='same', activation='relu',\n",
    "                input_shape=(32, 32, 3))(input_tensor)\n",
    "output_2 = Flatten()(output_tensor)\n",
    "output_3 = Dense(43, activation='softmax')(output_2)\n",
    "\n",
    "\n",
    "model = Model(input_tensor, output_3)\n",
    "\n",
    "model.compile(optimizer='adam', loss='categorical_crossentropy',\n",
    "             metrics=['accuracy'])"
   ]
  },
  {
   "cell_type": "code",
   "execution_count": 51,
   "metadata": {},
   "outputs": [
    {
     "name": "stdout",
     "output_type": "stream",
     "text": [
      "--- 765.9646155834198 seconds ---\n"
     ]
    }
   ],
   "source": [
    "start_time = time.time()\n",
    "model.fit(x_train, y_train, batch_size=5, epochs = 1, validation_data =\n",
    "         (x_validation, y_validation), verbose=0)\n",
    "print(\"--- %s seconds ---\" % (time.time() - start_time))"
   ]
  },
  {
   "cell_type": "code",
   "execution_count": 52,
   "metadata": {},
   "outputs": [
    {
     "name": "stdout",
     "output_type": "stream",
     "text": [
      "Test loss: 1.3848196682746179\n",
      "Test accuracy: 0.7952380951840321\n"
     ]
    }
   ],
   "source": [
    "score = model.evaluate(x_validation, y_validation, verbose=0)\n",
    "print('Test loss:', score[0])\n",
    "print('Test accuracy:', score[1])"
   ]
  },
  {
   "cell_type": "code",
   "execution_count": 53,
   "metadata": {},
   "outputs": [],
   "source": [
    "plot_model(model, to_file='model2.png')"
   ]
  },
  {
   "cell_type": "code",
   "execution_count": 92,
   "metadata": {},
   "outputs": [
    {
     "data": {
      "image/png": "[encoded data removed]",
      "text/plain": [
       "<IPython.core.display.Image object>"
      ]
     },
     "execution_count": 92,
     "metadata": {},
     "output_type": "execute_result"
    }
   ],
   "source": [
    "Image(\"model2.png\")"
   ]
  },
  {
   "cell_type": "markdown",
   "metadata": {},
   "source": [
    "# Model 3: adding a new Density Layer\n",
    "\n",
    "Here I added an additional density layer to see if this would help increase accuracy. In this case, the density model ended up hurting the accuracy of the model."
   ]
  },
  {
   "cell_type": "code",
   "execution_count": 54,
   "metadata": {},
   "outputs": [],
   "source": [
    "input_tensor = Input(shape=(32, 32, 3))\n",
    "output_tensor = Conv2D(64, kernel_size=10, padding='same', activation='relu',\n",
    "                input_shape=(32, 32, 3))(input_tensor)\n",
    "output_2 = Flatten()(output_tensor)\n",
    "output_3 = Dense(43, activation='softmax')(output_2)\n",
    "output_4 = Dense(43, activation='softmax')(output_3)\n",
    "\n",
    "\n",
    "model = Model(input_tensor, output_4)\n",
    "\n",
    "model.compile(optimizer='adam', loss='categorical_crossentropy',\n",
    "             metrics=['accuracy'])"
   ]
  },
  {
   "cell_type": "code",
   "execution_count": 55,
   "metadata": {},
   "outputs": [
    {
     "name": "stdout",
     "output_type": "stream",
     "text": [
      "--- 769.6547763347626 seconds ---\n"
     ]
    }
   ],
   "source": [
    "start_time = time.time()\n",
    "model.fit(x_train, y_train, batch_size=5, epochs = 1, validation_data =\n",
    "         (x_validation, y_validation), verbose=0)\n",
    "print(\"--- %s seconds ---\" % (time.time() - start_time))"
   ]
  },
  {
   "cell_type": "code",
   "execution_count": 56,
   "metadata": {},
   "outputs": [
    {
     "name": "stdout",
     "output_type": "stream",
     "text": [
      "Test loss: 3.529395399828887\n",
      "Test accuracy: 0.027210884353741496\n"
     ]
    }
   ],
   "source": [
    "score = model.evaluate(x_validation, y_validation, verbose=0)\n",
    "print('Test loss:', score[0])\n",
    "print('Test accuracy:', score[1])"
   ]
  },
  {
   "cell_type": "code",
   "execution_count": 57,
   "metadata": {},
   "outputs": [],
   "source": [
    "plot_model(model, to_file='model3.png')"
   ]
  },
  {
   "cell_type": "code",
   "execution_count": 93,
   "metadata": {},
   "outputs": [
    {
     "data": {
      "image/png": "[encoded data removed]",
      "text/plain": [
       "<IPython.core.display.Image object>"
      ]
     },
     "execution_count": 93,
     "metadata": {},
     "output_type": "execute_result"
    }
   ],
   "source": [
    "Image(\"model3.png\")"
   ]
  },
  {
   "cell_type": "markdown",
   "metadata": {},
   "source": [
    "# Model 4: Dropout Layer\n",
    "\n",
    "THe dropout layer will randomly prevent or block the passing of values from one neuron. This helps with a model overfitting. I thought overfitting might be an issue since the model doesn't seem to be able to get over .77 accuracy. The dropout layer did help with the accuracy only marginally and increased the fit time pretty significantly"
   ]
  },
  {
   "cell_type": "code",
   "execution_count": 58,
   "metadata": {},
   "outputs": [],
   "source": [
    "input_tensor = Input(shape=(32, 32, 3))\n",
    "output_tensor = Conv2D(64, kernel_size=10, padding='same', activation='relu',\n",
    "                input_shape=(32, 32, 3))(input_tensor)\n",
    "output_2 = Flatten()(output_tensor)\n",
    "output_3 = Dropout(20)(output_2)\n",
    "output_4 = Dense(43, activation='softmax')(output_3)\n",
    "\n",
    "\n",
    "model = Model(input_tensor, output_4)\n",
    "\n",
    "model.compile(optimizer='adam', loss='categorical_crossentropy',\n",
    "             metrics=['accuracy'])"
   ]
  },
  {
   "cell_type": "code",
   "execution_count": 60,
   "metadata": {},
   "outputs": [
    {
     "name": "stdout",
     "output_type": "stream",
     "text": [
      "--- 773.4076302051544 seconds ---\n"
     ]
    }
   ],
   "source": [
    "start_time = time.time()\n",
    "model.fit(x_train, y_train, batch_size=5, epochs = 1, validation_data =\n",
    "         (x_validation, y_validation), verbose=0)\n",
    "print(\"--- %s seconds ---\" % (time.time() - start_time))"
   ]
  },
  {
   "cell_type": "code",
   "execution_count": 61,
   "metadata": {},
   "outputs": [
    {
     "name": "stdout",
     "output_type": "stream",
     "text": [
      "Test loss: 1.9129845045050797\n",
      "Test accuracy: 0.7891156461503771\n"
     ]
    }
   ],
   "source": [
    "score = model.evaluate(x_validation, y_validation, verbose=0)\n",
    "print('Test loss:', score[0])\n",
    "print('Test accuracy:', score[1])"
   ]
  },
  {
   "cell_type": "code",
   "execution_count": 62,
   "metadata": {},
   "outputs": [],
   "source": [
    "plot_model(model, to_file='model4.png')"
   ]
  },
  {
   "cell_type": "code",
   "execution_count": 94,
   "metadata": {},
   "outputs": [
    {
     "data": {
      "image/png": "[encoded data removed]",
      "text/plain": [
       "<IPython.core.display.Image object>"
      ]
     },
     "execution_count": 94,
     "metadata": {},
     "output_type": "execute_result"
    }
   ],
   "source": [
    "Image(\"model4.png\")"
   ]
  },
  {
   "cell_type": "markdown",
   "metadata": {},
   "source": [
    "# Model 5: Increased Dropout\n",
    "\n",
    "I increased the dropout amount this time to 100 to see if the dropout layer was adding anything at all. Since the accuracy remained around .77 it seems like in this context, the dropout layer doesn't seem to be helping or hurting."
   ]
  },
  {
   "cell_type": "code",
   "execution_count": 63,
   "metadata": {},
   "outputs": [],
   "source": [
    "input_tensor = Input(shape=(32, 32, 3))\n",
    "output_tensor = Conv2D(64, kernel_size=10, padding='same', activation='relu',\n",
    "                input_shape=(32, 32, 3))(input_tensor)\n",
    "output_2 = Flatten()(output_tensor)\n",
    "output_3 = Dropout(100)(output_2)\n",
    "output_4 = Dense(43, activation='softmax')(output_3)\n",
    "\n",
    "\n",
    "model = Model(input_tensor, output_4)\n",
    "\n",
    "model.compile(optimizer='adam', loss='categorical_crossentropy',\n",
    "             metrics=['accuracy'])"
   ]
  },
  {
   "cell_type": "code",
   "execution_count": 64,
   "metadata": {},
   "outputs": [
    {
     "name": "stdout",
     "output_type": "stream",
     "text": [
      "--- 771.0773446559906 seconds ---\n"
     ]
    }
   ],
   "source": [
    "start_time = time.time()\n",
    "model.fit(x_train, y_train, batch_size=5, epochs = 1, validation_data =\n",
    "         (x_validation, y_validation), verbose=0)\n",
    "print(\"--- %s seconds ---\" % (time.time() - start_time))"
   ]
  },
  {
   "cell_type": "code",
   "execution_count": 65,
   "metadata": {
    "scrolled": true
   },
   "outputs": [
    {
     "name": "stdout",
     "output_type": "stream",
     "text": [
      "Test loss: 1.7512020178122314\n",
      "Test accuracy: 0.7691609976513315\n"
     ]
    }
   ],
   "source": [
    "score = model.evaluate(x_validation, y_validation, verbose=0)\n",
    "print('Test loss:', score[0])\n",
    "print('Test accuracy:', score[1])"
   ]
  },
  {
   "cell_type": "code",
   "execution_count": 66,
   "metadata": {},
   "outputs": [],
   "source": [
    "plot_model(model, to_file='model5.png')"
   ]
  },
  {
   "cell_type": "code",
   "execution_count": 95,
   "metadata": {},
   "outputs": [
    {
     "data": {
      "image/png": "[encoded data removed]",
      "text/plain": [
       "<IPython.core.display.Image object>"
      ]
     },
     "execution_count": 95,
     "metadata": {},
     "output_type": "execute_result"
    }
   ],
   "source": [
    "Image(\"model5.png\")"
   ]
  },
  {
   "cell_type": "markdown",
   "metadata": {},
   "source": [
    "# Model 6: Leaky ReLU and Locally Connected2D\n",
    "\n",
    "ReLU is a type of activation in neural networks that helps make linear, or neuron to following neuron, paths nonlinear. Leaky ReLU is a version of ReLU. I also changed the Convolutional 2D layer to a locally Connected 2D layer. The LocallyConnected@D layer works similarly to the Conv2D layer, except that weights are unshared, that is, a different set of filters is applied at each different patch of the input. While the fit time is almost double the fit time of our original model, the accuracy has finally pushed past the .70s."
   ]
  },
  {
   "cell_type": "code",
   "execution_count": 71,
   "metadata": {},
   "outputs": [],
   "source": [
    "input_tensor = Input(shape=(32, 32, 3))\n",
    "output_tensor = keras.layers.LocallyConnected2D(64, (3,3), input_shape=(32, 32, 3))(input_tensor)\n",
    "output_2 = Flatten()(output_tensor)\n",
    "output_3 = keras.layers.LeakyReLU(alpha = 0.3)(output_2)\n",
    "output_4 = Dense(43, activation='softmax')(output_3)\n",
    "\n",
    "model = Model(input_tensor, output_4)\n",
    "\n",
    "model.compile(optimizer='adam', loss='categorical_crossentropy',\n",
    "             metrics=['accuracy'])"
   ]
  },
  {
   "cell_type": "code",
   "execution_count": 72,
   "metadata": {},
   "outputs": [
    {
     "name": "stdout",
     "output_type": "stream",
     "text": [
      "--- 975.3689148426056 seconds ---\n"
     ]
    }
   ],
   "source": [
    "start_time = time.time()\n",
    "model.fit(x_train, y_train, batch_size=5, epochs = 1, validation_data =\n",
    "         (x_validation, y_validation), verbose=0)\n",
    "print(\"--- %s seconds ---\" % (time.time() - start_time))"
   ]
  },
  {
   "cell_type": "code",
   "execution_count": 73,
   "metadata": {},
   "outputs": [
    {
     "name": "stdout",
     "output_type": "stream",
     "text": [
      "Test loss: 1.6860482023416463\n",
      "Test accuracy: 0.8122448980132468\n"
     ]
    }
   ],
   "source": [
    "score = model.evaluate(x_validation, y_validation, verbose=0)\n",
    "print('Test loss:', score[0])\n",
    "print('Test accuracy:', score[1])"
   ]
  },
  {
   "cell_type": "code",
   "execution_count": 74,
   "metadata": {},
   "outputs": [],
   "source": [
    "plot_model(model, to_file='model7.png')"
   ]
  },
  {
   "cell_type": "code",
   "execution_count": 97,
   "metadata": {},
   "outputs": [
    {
     "data": {
      "image/png": "[encoded data removed]",
      "text/plain": [
       "<IPython.core.display.Image object>"
      ]
     },
     "execution_count": 97,
     "metadata": {},
     "output_type": "execute_result"
    }
   ],
   "source": [
    "Image(\"model7.png\")"
   ]
  },
  {
   "cell_type": "markdown",
   "metadata": {},
   "source": [
    "# Model 7: Adding Density Layers to Leaky ReLU\n",
    "\n",
    "Here I am experimenting with adding density layers to help the new activation. Again we can see an increase in the accuracy, at the cost of a significant fit time. "
   ]
  },
  {
   "cell_type": "code",
   "execution_count": 67,
   "metadata": {},
   "outputs": [],
   "source": [
    "input_tensor = Input(shape=(32, 32, 3))\n",
    "output_tensor = keras.layers.LocallyConnected2D(64, (3,3), input_shape=(32, 32, 3))(input_tensor)\n",
    "output_2 = Flatten()(output_tensor)\n",
    "output_3 = keras.layers.LeakyReLU(alpha = 0.3)(output_2)\n",
    "output_4 = Dense(100, activation='relu')(output_3)\n",
    "output_5 = Dense(43, activation='relu')(output_4)\n",
    "output_6 = keras.layers.LeakyReLU(alpha = 0.3)(output_5)\n",
    "output_7 = Dense(43, activation='softmax')(output_6)\n",
    "\n",
    "model = Model(input_tensor, output_7)\n",
    "\n",
    "model.compile(optimizer='adam', loss='categorical_crossentropy',\n",
    "             metrics=['accuracy'])"
   ]
  },
  {
   "cell_type": "code",
   "execution_count": 68,
   "metadata": {},
   "outputs": [
    {
     "name": "stdout",
     "output_type": "stream",
     "text": [
      "--- 1612.6701128482819 seconds ---\n"
     ]
    }
   ],
   "source": [
    "start_time = time.time()\n",
    "model.fit(x_train, y_train, batch_size=5, epochs = 1, validation_data =\n",
    "         (x_validation, y_validation), verbose=0)\n",
    "print(\"--- %s seconds ---\" % (time.time() - start_time))"
   ]
  },
  {
   "cell_type": "code",
   "execution_count": 69,
   "metadata": {},
   "outputs": [
    {
     "name": "stdout",
     "output_type": "stream",
     "text": [
      "Test loss: 0.6303074151615436\n",
      "Test accuracy: 0.8458049887161947\n"
     ]
    }
   ],
   "source": [
    "score = model.evaluate(x_validation, y_validation, verbose=0)\n",
    "print('Test loss:', score[0])\n",
    "print('Test accuracy:', score[1])"
   ]
  },
  {
   "cell_type": "code",
   "execution_count": 70,
   "metadata": {},
   "outputs": [],
   "source": [
    "plot_model(model, to_file='model6.png')"
   ]
  },
  {
   "cell_type": "code",
   "execution_count": 96,
   "metadata": {},
   "outputs": [
    {
     "data": {
      "image/png": "[encoded data removed]",
      "text/plain": [
       "<IPython.core.display.Image object>"
      ]
     },
     "execution_count": 96,
     "metadata": {},
     "output_type": "execute_result"
    }
   ],
   "source": [
    "Image(\"model6.png\")"
   ]
  },
  {
   "cell_type": "markdown",
   "metadata": {},
   "source": [
    "# Model 8: Adding Layers Together\n",
    "\n",
    "I am getting a baseline for the accuracy of adding layers together here. I know that low neuron density layers are ineffective at increasing accuracy, but they are quick to fit, which helps my experimentation. The test accuracy on this model is low, which is to be expected."
   ]
  },
  {
   "cell_type": "code",
   "execution_count": 1,
   "metadata": {},
   "outputs": [
    {
     "ename": "NameError",
     "evalue": "name 'Input' is not defined",
     "output_type": "error",
     "traceback": [
      "\u001b[1;31m---------------------------------------------------------------------------\u001b[0m",
      "\u001b[1;31mNameError\u001b[0m                                 Traceback (most recent call last)",
      "\u001b[1;32m<ipython-input-1-dc37f4e7be0d>\u001b[0m in \u001b[0;36m<module>\u001b[1;34m\u001b[0m\n\u001b[1;32m----> 1\u001b[1;33m \u001b[0minput_tensor\u001b[0m \u001b[1;33m=\u001b[0m \u001b[0mInput\u001b[0m\u001b[1;33m(\u001b[0m\u001b[0mshape\u001b[0m\u001b[1;33m=\u001b[0m\u001b[1;33m(\u001b[0m\u001b[1;36m32\u001b[0m\u001b[1;33m,\u001b[0m \u001b[1;36m32\u001b[0m\u001b[1;33m,\u001b[0m \u001b[1;36m3\u001b[0m\u001b[1;33m)\u001b[0m\u001b[1;33m)\u001b[0m\u001b[1;33m\u001b[0m\u001b[1;33m\u001b[0m\u001b[0m\n\u001b[0m\u001b[0;32m      2\u001b[0m \u001b[0moutput_tensor\u001b[0m \u001b[1;33m=\u001b[0m \u001b[0mkeras\u001b[0m\u001b[1;33m.\u001b[0m\u001b[0mlayers\u001b[0m\u001b[1;33m.\u001b[0m\u001b[0mLocallyConnected2D\u001b[0m\u001b[1;33m(\u001b[0m\u001b[1;36m64\u001b[0m\u001b[1;33m,\u001b[0m \u001b[1;33m(\u001b[0m\u001b[1;36m3\u001b[0m\u001b[1;33m,\u001b[0m\u001b[1;36m3\u001b[0m\u001b[1;33m)\u001b[0m\u001b[1;33m,\u001b[0m \u001b[0minput_shape\u001b[0m\u001b[1;33m=\u001b[0m\u001b[1;33m(\u001b[0m\u001b[1;36m32\u001b[0m\u001b[1;33m,\u001b[0m \u001b[1;36m32\u001b[0m\u001b[1;33m,\u001b[0m \u001b[1;36m3\u001b[0m\u001b[1;33m)\u001b[0m\u001b[1;33m)\u001b[0m\u001b[1;33m(\u001b[0m\u001b[0minput_tensor\u001b[0m\u001b[1;33m)\u001b[0m\u001b[1;33m\u001b[0m\u001b[1;33m\u001b[0m\u001b[0m\n\u001b[0;32m      3\u001b[0m \u001b[0moutput_2\u001b[0m \u001b[1;33m=\u001b[0m \u001b[0mFlatten\u001b[0m\u001b[1;33m(\u001b[0m\u001b[1;33m)\u001b[0m\u001b[1;33m(\u001b[0m\u001b[0moutput_tensor\u001b[0m\u001b[1;33m)\u001b[0m\u001b[1;33m\u001b[0m\u001b[1;33m\u001b[0m\u001b[0m\n\u001b[0;32m      4\u001b[0m \u001b[0moutput_3\u001b[0m \u001b[1;33m=\u001b[0m \u001b[0mDense\u001b[0m\u001b[1;33m(\u001b[0m\u001b[1;36m10\u001b[0m\u001b[1;33m,\u001b[0m \u001b[0mactivation\u001b[0m\u001b[1;33m=\u001b[0m\u001b[1;34m'relu'\u001b[0m\u001b[1;33m)\u001b[0m\u001b[1;33m(\u001b[0m\u001b[0moutput_2\u001b[0m\u001b[1;33m)\u001b[0m\u001b[1;33m\u001b[0m\u001b[1;33m\u001b[0m\u001b[0m\n\u001b[0;32m      5\u001b[0m \u001b[0moutput_4\u001b[0m \u001b[1;33m=\u001b[0m \u001b[0mDense\u001b[0m\u001b[1;33m(\u001b[0m\u001b[1;36m10\u001b[0m\u001b[1;33m,\u001b[0m \u001b[0mactivation\u001b[0m\u001b[1;33m=\u001b[0m\u001b[1;34m'relu'\u001b[0m\u001b[1;33m)\u001b[0m\u001b[1;33m(\u001b[0m\u001b[0moutput_3\u001b[0m\u001b[1;33m)\u001b[0m\u001b[1;33m\u001b[0m\u001b[1;33m\u001b[0m\u001b[0m\n",
      "\u001b[1;31mNameError\u001b[0m: name 'Input' is not defined"
     ]
    }
   ],
   "source": [
    "input_tensor = Input(shape=(32, 32, 3))\n",
    "output_tensor = keras.layers.LocallyConnected2D(64, (3,3), input_shape=(32, 32, 3))(input_tensor)\n",
    "output_2 = Flatten()(output_tensor)\n",
    "output_3 = Dense(10, activation='relu')(output_2)\n",
    "output_4 = Dense(10, activation='relu')(output_3)\n",
    "output_5 = Dense(10, activation='relu')(output_4)\n",
    "\n",
    "added = keras.layers.Add()([output_4, output_5])\n",
    "output_6 = Dense(43, activation='softmax')(added)\n",
    "\n",
    "model = Model(input_tensor, output_6)\n",
    "\n",
    "model.compile(optimizer='adam', loss='categorical_crossentropy',\n",
    "             metrics=['accuracy'])"
   ]
  },
  {
   "cell_type": "code",
   "execution_count": 76,
   "metadata": {},
   "outputs": [
    {
     "name": "stdout",
     "output_type": "stream",
     "text": [
      "--- 599.8771433830261 seconds ---\n"
     ]
    }
   ],
   "source": [
    "start_time = time.time()\n",
    "model.fit(x_train, y_train, batch_size=5, epochs = 1, validation_data =\n",
    "         (x_validation, y_validation), verbose=0)\n",
    "print(\"--- %s seconds ---\" % (time.time() - start_time))"
   ]
  },
  {
   "cell_type": "code",
   "execution_count": 77,
   "metadata": {},
   "outputs": [
    {
     "name": "stdout",
     "output_type": "stream",
     "text": [
      "Test loss: 1.7824215904114737\n",
      "Test accuracy: 0.44331065765043504\n"
     ]
    }
   ],
   "source": [
    "score = model.evaluate(x_validation, y_validation, verbose=0)\n",
    "print('Test loss:', score[0])\n",
    "print('Test accuracy:', score[1])"
   ]
  },
  {
   "cell_type": "markdown",
   "metadata": {},
   "source": [
    "My model begins to add some intricacies at this stage."
   ]
  },
  {
   "cell_type": "code",
   "execution_count": 78,
   "metadata": {},
   "outputs": [],
   "source": [
    "plot_model(model, to_file='model8.png')"
   ]
  },
  {
   "cell_type": "code",
   "execution_count": 98,
   "metadata": {},
   "outputs": [
    {
     "data": {
      "image/png": "[encoded data removed]",
      "text/plain": [
       "<IPython.core.display.Image object>"
      ]
     },
     "execution_count": 98,
     "metadata": {},
     "output_type": "execute_result"
    }
   ],
   "source": [
    "Image(\"model8.png\")"
   ]
  },
  {
   "cell_type": "markdown",
   "metadata": {},
   "source": [
    "# Model 9: Adding Leaky ReLU \n",
    "\n",
    "I added Leaky ReLU back into this model to see how the addition affected the accuracy and test loss. As you can see, both increased dramatically. "
   ]
  },
  {
   "cell_type": "code",
   "execution_count": 79,
   "metadata": {},
   "outputs": [],
   "source": [
    "input_tensor = Input(shape=(32, 32, 3))\n",
    "output_tensor = keras.layers.LocallyConnected2D(64, (3,3), input_shape=(32, 32, 3))(input_tensor)\n",
    "output_2 = Flatten()(output_tensor)\n",
    "output_3 = keras.layers.LeakyReLU(alpha = 0.3)(output_2)\n",
    "output_4 = Dense(10, activation='relu')(output_3)\n",
    "output_5 = Dense(10, activation='relu')(output_4)\n",
    "output_6 = Dense(10, activation='relu')(output_5)\n",
    "\n",
    "added = keras.layers.Add()([output_4, output_5])\n",
    "output_7 = Dense(43, activation='softmax')(added)\n",
    "\n",
    "model = Model(input_tensor, output_7)\n",
    "\n",
    "model.compile(optimizer='adam', loss='categorical_crossentropy',\n",
    "             metrics=['accuracy'])"
   ]
  },
  {
   "cell_type": "code",
   "execution_count": 80,
   "metadata": {},
   "outputs": [
    {
     "name": "stdout",
     "output_type": "stream",
     "text": [
      "--- 651.9830675125122 seconds ---\n"
     ]
    }
   ],
   "source": [
    "start_time = time.time()\n",
    "model.fit(x_train, y_train, batch_size=5, epochs = 1, validation_data =\n",
    "         (x_validation, y_validation), verbose=0)\n",
    "print(\"--- %s seconds ---\" % (time.time() - start_time))"
   ]
  },
  {
   "cell_type": "code",
   "execution_count": 81,
   "metadata": {},
   "outputs": [
    {
     "name": "stdout",
     "output_type": "stream",
     "text": [
      "Test loss: 1.3881832768316982\n",
      "Test accuracy: 0.562585034175795\n"
     ]
    }
   ],
   "source": [
    "score = model.evaluate(x_validation, y_validation, verbose=0)\n",
    "print('Test loss:', score[0])\n",
    "print('Test accuracy:', score[1])"
   ]
  },
  {
   "cell_type": "code",
   "execution_count": 82,
   "metadata": {},
   "outputs": [],
   "source": [
    "plot_model(model, to_file='model10.png')"
   ]
  },
  {
   "cell_type": "code",
   "execution_count": 99,
   "metadata": {},
   "outputs": [
    {
     "data": {
      "image/png": "[encoded data removed]",
      "text/plain": [
       "<IPython.core.display.Image object>"
      ]
     },
     "execution_count": 99,
     "metadata": {},
     "output_type": "execute_result"
    }
   ],
   "source": [
    "Image(\"model10.png\")"
   ]
  },
  {
   "cell_type": "markdown",
   "metadata": {},
   "source": [
    "# Adding Non-concurrent layers\n",
    "\n",
    "I added layers that did not follow one another and added another density layer. The accuracy suffered tremendously."
   ]
  },
  {
   "cell_type": "code",
   "execution_count": 83,
   "metadata": {},
   "outputs": [],
   "source": [
    "input_tensor = Input(shape=(32, 32, 3))\n",
    "output_tensor = keras.layers.LocallyConnected2D(64, (3,3), input_shape=(32, 32, 3))(input_tensor)\n",
    "output_2 = Flatten()(output_tensor)\n",
    "output_3 = keras.layers.LeakyReLU(alpha = 0.3)(output_2)\n",
    "output_4 = Dense(10, activation='relu')(output_3)\n",
    "output_5 = Dense(10, activation='relu')(output_4)\n",
    "output_6 = Dense(10, activation='relu')(output_5)\n",
    "output_7 = Dense(10, activation='relu')(output_6)\n",
    "\n",
    "added = keras.layers.Add()([output_4, output_7])\n",
    "output_7 = Dense(43, activation='softmax')(added)\n",
    "\n",
    "model = Model(input_tensor, output_7)\n",
    "\n",
    "model.compile(optimizer='adam', loss='categorical_crossentropy',\n",
    "             metrics=['accuracy'])"
   ]
  },
  {
   "cell_type": "code",
   "execution_count": 84,
   "metadata": {},
   "outputs": [
    {
     "name": "stdout",
     "output_type": "stream",
     "text": [
      "--- 639.2543346881866 seconds ---\n"
     ]
    }
   ],
   "source": [
    "start_time = time.time()\n",
    "model.fit(x_train, y_train, batch_size=5, epochs = 1, validation_data =\n",
    "         (x_validation, y_validation), verbose=0)\n",
    "print(\"--- %s seconds ---\" % (time.time() - start_time))"
   ]
  },
  {
   "cell_type": "code",
   "execution_count": 85,
   "metadata": {},
   "outputs": [
    {
     "name": "stdout",
     "output_type": "stream",
     "text": [
      "Test loss: 3.762279611488048\n",
      "Test accuracy: 0.013605442185318119\n"
     ]
    }
   ],
   "source": [
    "score = model.evaluate(x_validation, y_validation, verbose=0)\n",
    "print('Test loss:', score[0])\n",
    "print('Test accuracy:', score[1])"
   ]
  },
  {
   "cell_type": "code",
   "execution_count": 86,
   "metadata": {},
   "outputs": [],
   "source": [
    "plot_model(model, to_file='model11.png')"
   ]
  },
  {
   "cell_type": "code",
   "execution_count": 100,
   "metadata": {},
   "outputs": [
    {
     "data": {
      "image/png": "[encoded data removed]",
      "text/plain": [
       "<IPython.core.display.Image object>"
      ]
     },
     "execution_count": 100,
     "metadata": {},
     "output_type": "execute_result"
    }
   ],
   "source": [
    "Image(\"model11.png\")"
   ]
  },
  {
   "cell_type": "markdown",
   "metadata": {},
   "source": [
    "# Model 12: Adding side by side models\n",
    "\n",
    "I added the results of two sets of layers that were working in parallel. The test accuracy is higher than other addition models, but doesn't pass Model 7's success."
   ]
  },
  {
   "cell_type": "code",
   "execution_count": 87,
   "metadata": {},
   "outputs": [],
   "source": [
    "input_tensor = Input(shape=(32, 32, 3))\n",
    "output_tensor = keras.layers.LocallyConnected2D(64, (3,3), input_shape=(32, 32, 3))(input_tensor)\n",
    "output_2 = Flatten()(output_tensor)\n",
    "output_3 = keras.layers.LeakyReLU(alpha = 0.3)(output_2)\n",
    "output_4 = Dense(10, activation='relu')(output_3)\n",
    "output_5 = Dense(10, activation='relu')(output_4)\n",
    "\n",
    "output_tensor2 = keras.layers.LocallyConnected2D(64, (3,3), input_shape=(32, 32, 3))(input_tensor)\n",
    "output2_2 = Flatten()(output_tensor2)\n",
    "output2_3 = keras.layers.LeakyReLU(alpha = 0.3)(output2_2)\n",
    "output2_4 = Dense(10, activation='relu')(output2_3)\n",
    "output2_ = Dense(10, activation='relu')(output2_4)\n",
    "\n",
    "added = keras.layers.Add()([output_4, output2_4])\n",
    "output_7 = Dense(43, activation='softmax')(added)\n",
    "\n",
    "model = Model(input_tensor, output_7)\n",
    "\n",
    "model.compile(optimizer='adam', loss='categorical_crossentropy',\n",
    "             metrics=['accuracy'])\n"
   ]
  },
  {
   "cell_type": "code",
   "execution_count": 88,
   "metadata": {},
   "outputs": [
    {
     "name": "stdout",
     "output_type": "stream",
     "text": [
      "--- 1155.2487454414368 seconds ---\n"
     ]
    }
   ],
   "source": [
    "start_time = time.time()\n",
    "model.fit(x_train, y_train, batch_size=5, epochs = 1, validation_data =\n",
    "         (x_validation, y_validation), verbose=0)\n",
    "print(\"--- %s seconds ---\" % (time.time() - start_time))"
   ]
  },
  {
   "cell_type": "code",
   "execution_count": 89,
   "metadata": {},
   "outputs": [
    {
     "name": "stdout",
     "output_type": "stream",
     "text": [
      "Test loss: 0.7712192924790372\n",
      "Test accuracy: 0.799773242468196\n"
     ]
    }
   ],
   "source": [
    "score = model.evaluate(x_validation, y_validation, verbose=0)\n",
    "print('Test loss:', score[0])\n",
    "print('Test accuracy:', score[1])"
   ]
  },
  {
   "cell_type": "code",
   "execution_count": 90,
   "metadata": {},
   "outputs": [],
   "source": [
    "plot_model(model, to_file='model12.png')"
   ]
  },
  {
   "cell_type": "code",
   "execution_count": 101,
   "metadata": {},
   "outputs": [
    {
     "data": {
      "image/png": "[encoded data removed]",
      "text/plain": [
       "<IPython.core.display.Image object>"
      ]
     },
     "execution_count": 101,
     "metadata": {},
     "output_type": "execute_result"
    }
   ],
   "source": [
    "Image(\"model12.png\")"
   ]
  },
  {
   "cell_type": "markdown",
   "metadata": {},
   "source": [
    "# Model 13: adding leaky ReLUs together\n",
    "\n",
    "I tried to use the Adding layer to bring together my most successful layer, with poor results: a long fit time, and average test loss and accuracy scores. "
   ]
  },
  {
   "cell_type": "code",
   "execution_count": 102,
   "metadata": {},
   "outputs": [],
   "source": [
    "input_tensor = Input(shape=(32, 32, 3))\n",
    "output_tensor = keras.layers.LocallyConnected2D(64, (3,3), input_shape=(32, 32, 3))(input_tensor)\n",
    "output_2 = Flatten()(output_tensor)\n",
    "output_3 = keras.layers.LeakyReLU(alpha = 0.3)(output_2)\n",
    "\n",
    "output_tensor2 = keras.layers.LocallyConnected2D(64, (3,3), input_shape=(32, 32, 3))(input_tensor)\n",
    "output2_2 = Flatten()(output_tensor2)\n",
    "output2_3 = keras.layers.LeakyReLU(alpha = 0.3)(output2_2)\n",
    "\n",
    "added = keras.layers.Add()([output_3, output2_3])\n",
    "output_7 = Dense(43, activation='softmax')(added)\n",
    "\n",
    "model = Model(input_tensor, output_7)\n",
    "\n",
    "model.compile(optimizer='adam', loss='categorical_crossentropy',\n",
    "             metrics=['accuracy'])\n"
   ]
  },
  {
   "cell_type": "code",
   "execution_count": 103,
   "metadata": {},
   "outputs": [
    {
     "name": "stdout",
     "output_type": "stream",
     "text": [
      "--- 1484.9726939201355 seconds ---\n"
     ]
    }
   ],
   "source": [
    "start_time = time.time()\n",
    "model.fit(x_train, y_train, batch_size=5, epochs = 1, validation_data =\n",
    "         (x_validation, y_validation), verbose=0)\n",
    "print(\"--- %s seconds ---\" % (time.time() - start_time))"
   ]
  },
  {
   "cell_type": "code",
   "execution_count": 104,
   "metadata": {},
   "outputs": [
    {
     "name": "stdout",
     "output_type": "stream",
     "text": [
      "Test loss: 1.7426613238933675\n",
      "Test accuracy: 0.832653061143395\n"
     ]
    }
   ],
   "source": [
    "score = model.evaluate(x_validation, y_validation, verbose=0)\n",
    "print('Test loss:', score[0])\n",
    "print('Test accuracy:', score[1])"
   ]
  },
  {
   "cell_type": "markdown",
   "metadata": {},
   "source": [
    "# Model 14: Sequential Models\n",
    "\n",
    "I went from Functional models to sequential models. I started working with Kernels and how kernels affect model performance. One thing I noticed right away is how quick the fitting was for these models."
   ]
  },
  {
   "cell_type": "code",
   "execution_count": 7,
   "metadata": {},
   "outputs": [],
   "source": [
    "model = Sequential()\n",
    "model.add(Conv2D(32, kernel_size=1, padding='same', activation='relu',\n",
    "                input_shape=(32, 32, 3)))\n",
    "model.add(MaxPool2D(pool_size=2))\n",
    "model.add(Flatten())\n",
    "model.add(Dense(43, activation='softmax'))\n",
    "model.compile(optimizer='adam', loss='categorical_crossentropy',\n",
    "             metrics=['accuracy'])\n"
   ]
  },
  {
   "cell_type": "markdown",
   "metadata": {},
   "source": [
    "Here we are fitting the model. I timed how long each model fitting took to see if models that took longer to fit were better at performance. "
   ]
  },
  {
   "cell_type": "code",
   "execution_count": 8,
   "metadata": {},
   "outputs": [
    {
     "name": "stdout",
     "output_type": "stream",
     "text": [
      "--- 128.10160970687866 seconds ---\n"
     ]
    }
   ],
   "source": [
    "start_time = time.time()\n",
    "model.fit(x_train, y_train, batch_size=5, epochs = 1, validation_data =\n",
    "         (x_validation, y_validation), verbose=0)\n",
    "print(\"--- %s seconds ---\" % (time.time() - start_time))"
   ]
  },
  {
   "cell_type": "markdown",
   "metadata": {},
   "source": [
    "The accuracy of this model isn't terrible. This will be our baseline for model performance going forward."
   ]
  },
  {
   "cell_type": "code",
   "execution_count": 18,
   "metadata": {},
   "outputs": [
    {
     "name": "stdout",
     "output_type": "stream",
     "text": [
      "Test loss: 1.4202143292848757\n",
      "Test accuracy: 0.6730158730158731\n"
     ]
    }
   ],
   "source": [
    "score = model.evaluate(x_validation, y_validation, verbose=0)\n",
    "print('Test loss:', score[0])\n",
    "print('Test accuracy:', score[1])"
   ]
  },
  {
   "cell_type": "markdown",
   "metadata": {},
   "source": [
    "# Model 15: Kernel at 2"
   ]
  },
  {
   "cell_type": "code",
   "execution_count": 25,
   "metadata": {},
   "outputs": [],
   "source": [
    "model = Sequential()\n",
    "model.add(Conv2D(32, kernel_size=2, padding='same', activation='relu', input_shape=(32, 32, 3)))\n",
    "model.add(MaxPool2D(pool_size=2))\n",
    "model.add(Flatten())\n",
    "model.add(Dense(43, activation='softmax'))\n",
    "model.compile(optimizer='adam', loss='categorical_crossentropy', metrics=['accuracy'])"
   ]
  },
  {
   "cell_type": "code",
   "execution_count": 26,
   "metadata": {},
   "outputs": [
    {
     "name": "stdout",
     "output_type": "stream",
     "text": [
      "--- 107.99208092689514 seconds ---\n"
     ]
    }
   ],
   "source": [
    "start_time = time.time()\n",
    "model.fit(x_train, y_train, batch_size=5, epochs = 1, validation_data =\n",
    "         (x_validation, y_validation), verbose=0)\n",
    "print(\"--- %s seconds ---\" % (time.time() - start_time))"
   ]
  },
  {
   "cell_type": "code",
   "execution_count": 27,
   "metadata": {},
   "outputs": [
    {
     "name": "stdout",
     "output_type": "stream",
     "text": [
      "Test loss: 0.689000676102649\n",
      "Test accuracy: 0.8467120181676212\n"
     ]
    }
   ],
   "source": [
    "score = model.evaluate(x_validation, y_validation, verbose=0)\n",
    "print('Test loss:', score[0])\n",
    "print('Test accuracy:', score[1])"
   ]
  },
  {
   "cell_type": "markdown",
   "metadata": {},
   "source": [
    "# Model 16: Kernel at 3"
   ]
  },
  {
   "cell_type": "code",
   "execution_count": 29,
   "metadata": {},
   "outputs": [],
   "source": [
    "model = Sequential()\n",
    "model.add(Conv2D(32, kernel_size=3, padding='same', activation='relu', input_shape=(32, 32, 3)))\n",
    "model.add(MaxPool2D(pool_size=2))\n",
    "model.add(Flatten())\n",
    "model.add(Dense(43, activation='softmax'))\n",
    "model.compile(optimizer='adam', loss='categorical_crossentropy', metrics=['accuracy'])"
   ]
  },
  {
   "cell_type": "code",
   "execution_count": 30,
   "metadata": {},
   "outputs": [
    {
     "name": "stdout",
     "output_type": "stream",
     "text": [
      "--- 118.07528042793274 seconds ---\n"
     ]
    }
   ],
   "source": [
    "start_time = time.time()\n",
    "model.fit(x_train, y_train, batch_size=5, epochs = 1, validation_data =\n",
    "         (x_validation, y_validation), verbose=0)\n",
    "print(\"--- %s seconds ---\" % (time.time() - start_time))"
   ]
  },
  {
   "cell_type": "code",
   "execution_count": 31,
   "metadata": {},
   "outputs": [
    {
     "name": "stdout",
     "output_type": "stream",
     "text": [
      "Test loss: 0.6941176410705324\n",
      "Test accuracy: 0.8496598639726098\n"
     ]
    }
   ],
   "source": [
    "score = model.evaluate(x_validation, y_validation, verbose=0)\n",
    "print('Test loss:', score[0])\n",
    "print('Test accuracy:', score[1])"
   ]
  },
  {
   "cell_type": "markdown",
   "metadata": {},
   "source": [
    "# Model 17: Kernel at 4"
   ]
  },
  {
   "cell_type": "code",
   "execution_count": 33,
   "metadata": {},
   "outputs": [],
   "source": [
    "model = Sequential()\n",
    "model.add(Conv2D(32, kernel_size=4, padding='same', activation='relu', input_shape=(32, 32, 3)))\n",
    "model.add(MaxPool2D(pool_size=2))\n",
    "model.add(Flatten())\n",
    "model.add(Dense(43, activation='softmax'))\n",
    "model.compile(optimizer='adam', loss='categorical_crossentropy', metrics=['accuracy'])"
   ]
  },
  {
   "cell_type": "code",
   "execution_count": 34,
   "metadata": {},
   "outputs": [
    {
     "name": "stdout",
     "output_type": "stream",
     "text": [
      "--- 128.16905641555786 seconds ---\n"
     ]
    }
   ],
   "source": [
    "start_time = time.time()\n",
    "model.fit(x_train, y_train, batch_size=5, epochs = 1, validation_data =\n",
    "         (x_validation, y_validation), verbose=0)\n",
    "print(\"--- %s seconds ---\" % (time.time() - start_time))"
   ]
  },
  {
   "cell_type": "code",
   "execution_count": 35,
   "metadata": {},
   "outputs": [
    {
     "name": "stdout",
     "output_type": "stream",
     "text": [
      "Test loss: 0.9065441038062513\n",
      "Test accuracy: 0.8204081631571798\n"
     ]
    }
   ],
   "source": [
    "score = model.evaluate(x_validation, y_validation, verbose=0)\n",
    "print('Test loss:', score[0])\n",
    "print('Test accuracy:', score[1])"
   ]
  },
  {
   "cell_type": "markdown",
   "metadata": {},
   "source": [
    "# Model 18: Kernel at 5"
   ]
  },
  {
   "cell_type": "code",
   "execution_count": 37,
   "metadata": {},
   "outputs": [],
   "source": [
    "model = Sequential()\n",
    "model.add(Conv2D(32, kernel_size=5, padding='same', activation='relu', input_shape=(32, 32, 3)))\n",
    "model.add(MaxPool2D(pool_size=2))\n",
    "model.add(Flatten())\n",
    "model.add(Dense(43, activation='softmax'))\n",
    "model.compile(optimizer='adam', loss='categorical_crossentropy', metrics=['accuracy'])"
   ]
  },
  {
   "cell_type": "code",
   "execution_count": 38,
   "metadata": {},
   "outputs": [
    {
     "name": "stdout",
     "output_type": "stream",
     "text": [
      "--- 145.56558513641357 seconds ---\n"
     ]
    }
   ],
   "source": [
    "start_time = time.time()\n",
    "model.fit(x_train, y_train, batch_size=5, epochs = 1, validation_data =\n",
    "         (x_validation, y_validation), verbose=0)\n",
    "print(\"--- %s seconds ---\" % (time.time() - start_time))"
   ]
  },
  {
   "cell_type": "code",
   "execution_count": 39,
   "metadata": {},
   "outputs": [
    {
     "name": "stdout",
     "output_type": "stream",
     "text": [
      "Test loss: 1.0918637566555656\n",
      "Test accuracy: 0.8253968253157307\n"
     ]
    }
   ],
   "source": [
    "score = model.evaluate(x_validation, y_validation, verbose=0)\n",
    "print('Test loss:', score[0])\n",
    "print('Test accuracy:', score[1])"
   ]
  },
  {
   "cell_type": "markdown",
   "metadata": {},
   "source": [
    "# Model 19: Kernal at 6"
   ]
  },
  {
   "cell_type": "code",
   "execution_count": 41,
   "metadata": {},
   "outputs": [],
   "source": [
    "model = Sequential()\n",
    "model.add(Conv2D(32, kernel_size=6, padding='same', activation='relu', input_shape=(32, 32, 3)))\n",
    "model.add(MaxPool2D(pool_size=2))\n",
    "model.add(Flatten())\n",
    "model.add(Dense(43, activation='softmax'))\n",
    "model.compile(optimizer='adam', loss='categorical_crossentropy', metrics=['accuracy'])"
   ]
  },
  {
   "cell_type": "code",
   "execution_count": 42,
   "metadata": {},
   "outputs": [
    {
     "name": "stdout",
     "output_type": "stream",
     "text": [
      "--- 163.57180857658386 seconds ---\n"
     ]
    }
   ],
   "source": [
    "start_time = time.time()\n",
    "model.fit(x_train, y_train, batch_size=5, epochs = 1, validation_data =\n",
    "         (x_validation, y_validation), verbose=0)\n",
    "print(\"--- %s seconds ---\" % (time.time() - start_time))"
   ]
  },
  {
   "cell_type": "code",
   "execution_count": 43,
   "metadata": {},
   "outputs": [
    {
     "name": "stdout",
     "output_type": "stream",
     "text": [
      "Test loss: 0.8275337818798835\n",
      "Test accuracy: 0.853968253833096\n"
     ]
    }
   ],
   "source": [
    "score = model.evaluate(x_validation, y_validation, verbose=0)\n",
    "print('Test loss:', score[0])\n",
    "print('Test accuracy:', score[1])"
   ]
  },
  {
   "cell_type": "markdown",
   "metadata": {},
   "source": [
    "# Model 20: Kernel at 7"
   ]
  },
  {
   "cell_type": "code",
   "execution_count": 45,
   "metadata": {},
   "outputs": [],
   "source": [
    "model = Sequential()\n",
    "model.add(Conv2D(32, kernel_size=7, padding='same', activation='relu', input_shape=(32, 32, 3)))\n",
    "model.add(MaxPool2D(pool_size=2))\n",
    "model.add(Flatten())\n",
    "model.add(Dense(43, activation='softmax'))\n",
    "model.compile(optimizer='adam', loss='categorical_crossentropy', metrics=['accuracy'])"
   ]
  },
  {
   "cell_type": "code",
   "execution_count": 46,
   "metadata": {},
   "outputs": [
    {
     "name": "stdout",
     "output_type": "stream",
     "text": [
      "--- 177.98179459571838 seconds ---\n"
     ]
    }
   ],
   "source": [
    "start_time = time.time()\n",
    "model.fit(x_train, y_train, batch_size=5, epochs = 1, validation_data =\n",
    "         (x_validation, y_validation), verbose=0)\n",
    "print(\"--- %s seconds ---\" % (time.time() - start_time))"
   ]
  },
  {
   "cell_type": "code",
   "execution_count": 47,
   "metadata": {},
   "outputs": [
    {
     "name": "stdout",
     "output_type": "stream",
     "text": [
      "Test loss: 0.9752437439635228\n",
      "Test accuracy: 0.834013605307019\n"
     ]
    }
   ],
   "source": [
    "score = model.evaluate(x_validation, y_validation, verbose=0)\n",
    "print('Test loss:', score[0])\n",
    "print('Test accuracy:', score[1])"
   ]
  },
  {
   "cell_type": "markdown",
   "metadata": {},
   "source": [
    "# Model 21: Kernel at 8"
   ]
  },
  {
   "cell_type": "code",
   "execution_count": 49,
   "metadata": {},
   "outputs": [],
   "source": [
    "model = Sequential()\n",
    "model.add(Conv2D(32, kernel_size=8, padding='same', activation='relu', input_shape=(32, 32, 3)))\n",
    "model.add(MaxPool2D(pool_size=2))\n",
    "model.add(Flatten())\n",
    "model.add(Dense(43, activation='softmax'))\n",
    "model.compile(optimizer='adam', loss='categorical_crossentropy', metrics=['accuracy'])"
   ]
  },
  {
   "cell_type": "code",
   "execution_count": 50,
   "metadata": {},
   "outputs": [
    {
     "name": "stdout",
     "output_type": "stream",
     "text": [
      "--- 184.5063123703003 seconds ---\n"
     ]
    }
   ],
   "source": [
    "start_time = time.time()\n",
    "model.fit(x_train, y_train, batch_size=5, epochs = 1, validation_data =\n",
    "         (x_validation, y_validation), verbose=0)\n",
    "print(\"--- %s seconds ---\" % (time.time() - start_time))"
   ]
  },
  {
   "cell_type": "code",
   "execution_count": 51,
   "metadata": {},
   "outputs": [
    {
     "name": "stdout",
     "output_type": "stream",
     "text": [
      "Test loss: 0.9827890204193911\n",
      "Test accuracy: 0.8358276644261246\n"
     ]
    }
   ],
   "source": [
    "score = model.evaluate(x_validation, y_validation, verbose=0)\n",
    "print('Test loss:', score[0])\n",
    "print('Test accuracy:', score[1])"
   ]
  },
  {
   "cell_type": "markdown",
   "metadata": {},
   "source": [
    "# Model 22: Kernel at 9"
   ]
  },
  {
   "cell_type": "code",
   "execution_count": 53,
   "metadata": {},
   "outputs": [],
   "source": [
    "model = Sequential()\n",
    "model.add(Conv2D(32, kernel_size=9, padding='same', activation='relu', input_shape=(32, 32, 3)))\n",
    "model.add(MaxPool2D(pool_size=2))\n",
    "model.add(Flatten())\n",
    "model.add(Dense(43, activation='softmax'))\n",
    "model.compile(optimizer='adam', loss='categorical_crossentropy', metrics=['accuracy'])"
   ]
  },
  {
   "cell_type": "code",
   "execution_count": 54,
   "metadata": {},
   "outputs": [
    {
     "name": "stdout",
     "output_type": "stream",
     "text": [
      "--- 216.8506474494934 seconds ---\n"
     ]
    }
   ],
   "source": [
    "start_time = time.time()\n",
    "model.fit(x_train, y_train, batch_size=5, epochs = 1, validation_data =\n",
    "         (x_validation, y_validation), verbose=0)\n",
    "print(\"--- %s seconds ---\" % (time.time() - start_time))"
   ]
  },
  {
   "cell_type": "code",
   "execution_count": 55,
   "metadata": {},
   "outputs": [
    {
     "name": "stdout",
     "output_type": "stream",
     "text": [
      "Test loss: 1.1590758565872434\n",
      "Test accuracy: 0.8115646259044033\n"
     ]
    }
   ],
   "source": [
    "score = model.evaluate(x_validation, y_validation, verbose=0)\n",
    "print('Test loss:', score[0])\n",
    "print('Test accuracy:', score[1])"
   ]
  },
  {
   "cell_type": "markdown",
   "metadata": {},
   "source": [
    "# Model 23: Kernel at 10"
   ]
  },
  {
   "cell_type": "code",
   "execution_count": 57,
   "metadata": {},
   "outputs": [],
   "source": [
    "model = Sequential()\n",
    "model.add(Conv2D(32, kernel_size=10, padding='same', activation='relu', input_shape=(32, 32, 3)))\n",
    "model.add(MaxPool2D(pool_size=2))\n",
    "model.add(Flatten())\n",
    "model.add(Dense(43, activation='softmax'))\n",
    "model.compile(optimizer='adam', loss='categorical_crossentropy', metrics=['accuracy'])"
   ]
  },
  {
   "cell_type": "code",
   "execution_count": 58,
   "metadata": {},
   "outputs": [
    {
     "name": "stdout",
     "output_type": "stream",
     "text": [
      "--- 238.4643359184265 seconds ---\n"
     ]
    }
   ],
   "source": [
    "start_time = time.time()\n",
    "model.fit(x_train, y_train, batch_size=5, epochs = 1, validation_data =\n",
    "         (x_validation, y_validation), verbose=0)\n",
    "print(\"--- %s seconds ---\" % (time.time() - start_time))"
   ]
  },
  {
   "cell_type": "code",
   "execution_count": 59,
   "metadata": {},
   "outputs": [
    {
     "name": "stdout",
     "output_type": "stream",
     "text": [
      "Test loss: 1.1296773658588088\n",
      "Test accuracy: 0.811791383328081\n"
     ]
    }
   ],
   "source": [
    "score = model.evaluate(x_validation, y_validation, verbose=0)\n",
    "print('Test loss:', score[0])\n",
    "print('Test accuracy:', score[1])"
   ]
  },
  {
   "cell_type": "markdown",
   "metadata": {},
   "source": [
    "# Reflection on Kernels\n",
    "\n",
    "It seems that for this project, performance begins to stall around 2 kernels. I will keep this as my baseline for my next model tweak: adding an additonal density layer to my model."
   ]
  },
  {
   "cell_type": "code",
   "execution_count": 70,
   "metadata": {},
   "outputs": [
    {
     "data": {
      "image/png": "[encoded data removed]",
      "text/plain": [
       "<IPython.core.display.Image object>"
      ]
     },
     "execution_count": 70,
     "metadata": {},
     "output_type": "execute_result"
    }
   ],
   "source": [
    "Image(\"Capture.png\")"
   ]
  },
  {
   "cell_type": "markdown",
   "metadata": {},
   "source": [
    "# Density Layers\n",
    "\n",
    "Density layers feed all outputs from the previous layer through all its neurons, each neuron providing one output to the next layer. Here we are experimenting with the number of neurons in the a new density layer.  "
   ]
  },
  {
   "cell_type": "markdown",
   "metadata": {},
   "source": [
    "# Model 24: Density Layer at 1"
   ]
  },
  {
   "cell_type": "code",
   "execution_count": 61,
   "metadata": {},
   "outputs": [],
   "source": [
    "model = Sequential()\n",
    "model.add(Conv2D(32, kernel_size=2, padding='same', activation='relu', input_shape=(32, 32, 3)))\n",
    "model.add(MaxPool2D(pool_size=2))\n",
    "model.add(Flatten())\n",
    "model.add(Dense(1, activation='relu'))\n",
    "model.add(Dense(43, activation='softmax'))\n",
    "model.compile(optimizer='adam', loss='categorical_crossentropy', metrics=['accuracy'])"
   ]
  },
  {
   "cell_type": "code",
   "execution_count": 62,
   "metadata": {},
   "outputs": [
    {
     "name": "stdout",
     "output_type": "stream",
     "text": [
      "--- 57.72654414176941 seconds ---\n"
     ]
    }
   ],
   "source": [
    "start_time = time.time()\n",
    "model.fit(x_train, y_train, batch_size=5, epochs = 1, validation_data =\n",
    "         (x_validation, y_validation), verbose=0)\n",
    "print(\"--- %s seconds ---\" % (time.time() - start_time))"
   ]
  },
  {
   "cell_type": "code",
   "execution_count": 63,
   "metadata": {},
   "outputs": [
    {
     "name": "stdout",
     "output_type": "stream",
     "text": [
      "Test loss: 3.7562839880011247\n",
      "Test accuracy: 0.013605442176870748\n"
     ]
    }
   ],
   "source": [
    "score = model.evaluate(x_validation, y_validation, verbose=0)\n",
    "print('Test loss:', score[0])\n",
    "print('Test accuracy:', score[1])"
   ]
  },
  {
   "cell_type": "markdown",
   "metadata": {},
   "source": [
    "# Model 25: Density Layer at 10"
   ]
  },
  {
   "cell_type": "code",
   "execution_count": 64,
   "metadata": {},
   "outputs": [],
   "source": [
    "model = Sequential()\n",
    "model.add(Conv2D(32, kernel_size=2, padding='same', activation='relu', input_shape=(32, 32, 3)))\n",
    "model.add(MaxPool2D(pool_size=2))\n",
    "model.add(Flatten())\n",
    "model.add(Dense(10, activation='relu'))\n",
    "model.add(Dense(43, activation='softmax'))\n",
    "model.compile(optimizer='adam', loss='categorical_crossentropy', metrics=['accuracy'])"
   ]
  },
  {
   "cell_type": "code",
   "execution_count": 65,
   "metadata": {},
   "outputs": [
    {
     "name": "stdout",
     "output_type": "stream",
     "text": [
      "--- 64.3867347240448 seconds ---\n"
     ]
    }
   ],
   "source": [
    "start_time = time.time()\n",
    "model.fit(x_train, y_train, batch_size=5, epochs = 1, validation_data =\n",
    "         (x_validation, y_validation), verbose=0)\n",
    "print(\"--- %s seconds ---\" % (time.time() - start_time))"
   ]
  },
  {
   "cell_type": "code",
   "execution_count": 66,
   "metadata": {},
   "outputs": [
    {
     "name": "stdout",
     "output_type": "stream",
     "text": [
      "Test loss: 1.0613079617623569\n",
      "Test accuracy: 0.668027210803259\n"
     ]
    }
   ],
   "source": [
    "score = model.evaluate(x_validation, y_validation, verbose=0)\n",
    "print('Test loss:', score[0])\n",
    "print('Test accuracy:', score[1])"
   ]
  },
  {
   "cell_type": "markdown",
   "metadata": {},
   "source": [
    "# Model 26: Density Layer at 50"
   ]
  },
  {
   "cell_type": "code",
   "execution_count": 67,
   "metadata": {},
   "outputs": [],
   "source": [
    "model = Sequential()\n",
    "model.add(Conv2D(32, kernel_size=2, padding='same', activation='relu', input_shape=(32, 32, 3)))\n",
    "model.add(MaxPool2D(pool_size=2))\n",
    "model.add(Flatten())\n",
    "model.add(Dense(50, activation='relu'))\n",
    "model.add(Dense(43, activation='softmax'))\n",
    "model.compile(optimizer='adam', loss='categorical_crossentropy', metrics=['accuracy'])"
   ]
  },
  {
   "cell_type": "code",
   "execution_count": 68,
   "metadata": {},
   "outputs": [
    {
     "name": "stdout",
     "output_type": "stream",
     "text": [
      "--- 122.47640800476074 seconds ---\n"
     ]
    }
   ],
   "source": [
    "start_time = time.time()\n",
    "model.fit(x_train, y_train, batch_size=5, epochs = 1, validation_data =\n",
    "         (x_validation, y_validation), verbose=0)\n",
    "print(\"--- %s seconds ---\" % (time.time() - start_time))"
   ]
  },
  {
   "cell_type": "code",
   "execution_count": 71,
   "metadata": {},
   "outputs": [
    {
     "name": "stdout",
     "output_type": "stream",
     "text": [
      "Test loss: 0.829659496007863\n",
      "Test accuracy: 0.7768707481911934\n"
     ]
    }
   ],
   "source": [
    "score = model.evaluate(x_validation, y_validation, verbose=0)\n",
    "print('Test loss:', score[0])\n",
    "print('Test accuracy:', score[1])"
   ]
  },
  {
   "cell_type": "markdown",
   "metadata": {},
   "source": [
    "# Model 27: Density Layer at 100 "
   ]
  },
  {
   "cell_type": "code",
   "execution_count": 73,
   "metadata": {},
   "outputs": [],
   "source": [
    "model = Sequential()\n",
    "model.add(Conv2D(32, kernel_size=2, padding='same', activation='relu', input_shape=(32, 32, 3)))\n",
    "model.add(MaxPool2D(pool_size=2))\n",
    "model.add(Flatten())\n",
    "model.add(Dense(100, activation='relu'))\n",
    "model.add(Dense(43, activation='softmax'))\n",
    "model.compile(optimizer='adam', loss='categorical_crossentropy', metrics=['accuracy'])"
   ]
  },
  {
   "cell_type": "code",
   "execution_count": 74,
   "metadata": {},
   "outputs": [
    {
     "name": "stdout",
     "output_type": "stream",
     "text": [
      "--- 218.55456018447876 seconds ---\n"
     ]
    }
   ],
   "source": [
    "start_time = time.time()\n",
    "model.fit(x_train, y_train, batch_size=5, epochs = 1, validation_data =\n",
    "         (x_validation, y_validation), verbose=0)\n",
    "print(\"--- %s seconds ---\" % (time.time() - start_time))"
   ]
  },
  {
   "cell_type": "code",
   "execution_count": 75,
   "metadata": {},
   "outputs": [
    {
     "name": "stdout",
     "output_type": "stream",
     "text": [
      "Test loss: 0.6007305597772403\n",
      "Test accuracy: 0.8365079365619997\n"
     ]
    }
   ],
   "source": [
    "score = model.evaluate(x_validation, y_validation, verbose=0)\n",
    "print('Test loss:', score[0])\n",
    "print('Test accuracy:', score[1])"
   ]
  },
  {
   "cell_type": "markdown",
   "metadata": {},
   "source": [
    "# Model 28: Density Layer at 150"
   ]
  },
  {
   "cell_type": "code",
   "execution_count": 77,
   "metadata": {},
   "outputs": [],
   "source": [
    "model = Sequential()\n",
    "model.add(Conv2D(32, kernel_size=2, padding='same', activation='relu', input_shape=(32, 32, 3)))\n",
    "model.add(MaxPool2D(pool_size=2))\n",
    "model.add(Flatten())\n",
    "model.add(Dense(150, activation='relu'))\n",
    "model.add(Dense(43, activation='softmax'))\n",
    "model.compile(optimizer='adam', loss='categorical_crossentropy', metrics=['accuracy'])"
   ]
  },
  {
   "cell_type": "code",
   "execution_count": 78,
   "metadata": {},
   "outputs": [
    {
     "name": "stdout",
     "output_type": "stream",
     "text": [
      "--- 305.3828456401825 seconds ---\n"
     ]
    }
   ],
   "source": [
    "start_time = time.time()\n",
    "model.fit(x_train, y_train, batch_size=5, epochs = 1, validation_data =\n",
    "         (x_validation, y_validation), verbose=0)\n",
    "print(\"--- %s seconds ---\" % (time.time() - start_time))"
   ]
  },
  {
   "cell_type": "code",
   "execution_count": 79,
   "metadata": {},
   "outputs": [
    {
     "name": "stdout",
     "output_type": "stream",
     "text": [
      "Test loss: 0.777620839342779\n",
      "Test accuracy: 0.8235827664939724\n"
     ]
    }
   ],
   "source": [
    "score = model.evaluate(x_validation, y_validation, verbose=0)\n",
    "print('Test loss:', score[0])\n",
    "print('Test accuracy:', score[1])"
   ]
  },
  {
   "cell_type": "markdown",
   "metadata": {},
   "source": [
    "# Model 29: Density Layer at 200 "
   ]
  },
  {
   "cell_type": "code",
   "execution_count": 5,
   "metadata": {},
   "outputs": [],
   "source": [
    "model = Sequential()\n",
    "model.add(Conv2D(32, kernel_size=2, padding='same', activation='relu', input_shape=(32, 32, 3)))\n",
    "model.add(MaxPool2D(pool_size=2))\n",
    "model.add(Flatten())\n",
    "model.add(Dense(200, activation='relu'))\n",
    "model.add(Dense(43, activation='softmax'))\n",
    "model.compile(optimizer='adam', loss='categorical_crossentropy', metrics=['accuracy'])"
   ]
  },
  {
   "cell_type": "code",
   "execution_count": 6,
   "metadata": {},
   "outputs": [
    {
     "name": "stdout",
     "output_type": "stream",
     "text": [
      "--- 369.75259709358215 seconds ---\n"
     ]
    }
   ],
   "source": [
    "start_time = time.time()\n",
    "model.fit(x_train, y_train, batch_size=5, epochs = 1, validation_data =\n",
    "         (x_validation, y_validation), verbose=0)\n",
    "print(\"--- %s seconds ---\" % (time.time() - start_time))"
   ]
  },
  {
   "cell_type": "code",
   "execution_count": 7,
   "metadata": {},
   "outputs": [
    {
     "name": "stdout",
     "output_type": "stream",
     "text": [
      "Test loss: 0.8336913619992955\n",
      "Test accuracy: 0.8133786848613194\n"
     ]
    }
   ],
   "source": [
    "score = model.evaluate(x_validation, y_validation, verbose=0)\n",
    "print('Test loss:', score[0])\n",
    "print('Test accuracy:', score[1])"
   ]
  },
  {
   "cell_type": "markdown",
   "metadata": {},
   "source": [
    "# Reflections on Density Layers\n",
    "\n",
    "It looks like in this circumstance, this new density layer either harmed or did not add anything to decreasing the test loss, and increasing the test accuracy."
   ]
  },
  {
   "cell_type": "code",
   "execution_count": 84,
   "metadata": {},
   "outputs": [
    {
     "data": {
      "image/png": "[encoded data removed]",
      "text/plain": [
       "<IPython.core.display.Image object>"
      ]
     },
     "execution_count": 84,
     "metadata": {},
     "output_type": "execute_result"
    }
   ],
   "source": [
    "Image(\"Capture2.png\")"
   ]
  },
  {
   "cell_type": "markdown",
   "metadata": {},
   "source": [
    "# My Final Models: Functional vs. Sequential\n",
    "\n",
    "My functional model performed well on accuracy and test loss, but overall took too long to classify the image. My sequential model was much faster and just as accurate"
   ]
  },
  {
   "cell_type": "markdown",
   "metadata": {},
   "source": [
    "# Functional Model"
   ]
  },
  {
   "cell_type": "code",
   "execution_count": 118,
   "metadata": {},
   "outputs": [],
   "source": [
    "input_tensor = Input(shape=(32, 32, 3))\n",
    "output_tensor = keras.layers.LocallyConnected2D(64, (3,3), input_shape=(32, 32, 3))(input_tensor)\n",
    "output_2 = Flatten()(output_tensor)\n",
    "output_3 = keras.layers.LeakyReLU(alpha = 0.3)(output_2)\n",
    "output_4 = Dense(100, activation='relu')(output_3)\n",
    "output_5 = Dense(43, activation='relu')(output_4)\n",
    "output_6 = keras.layers.LeakyReLU(alpha = 0.3)(output_5)\n",
    "output_7 = Dense(43, activation='softmax')(output_6)\n",
    "\n",
    "model = Model(input_tensor, output_7)\n",
    "\n",
    "model.compile(optimizer='adam', loss='categorical_crossentropy',\n",
    "             metrics=['accuracy'])"
   ]
  },
  {
   "cell_type": "code",
   "execution_count": 119,
   "metadata": {},
   "outputs": [
    {
     "name": "stdout",
     "output_type": "stream",
     "text": [
      "--- 1865.5344624519348 seconds ---\n"
     ]
    }
   ],
   "source": [
    "start_time = time.time()\n",
    "model.fit(x_train, y_train, batch_size=5, epochs = 1, validation_data =\n",
    "         (x_validation, y_validation), verbose=0)\n",
    "print(\"--- %s seconds ---\" % (time.time() - start_time))"
   ]
  },
  {
   "cell_type": "code",
   "execution_count": 120,
   "metadata": {},
   "outputs": [
    {
     "name": "stdout",
     "output_type": "stream",
     "text": [
      "Test loss: 0.7239449163683418\n",
      "Test accuracy: 0.8335600907299794\n"
     ]
    }
   ],
   "source": [
    "score = model.evaluate(x_validation, y_validation, verbose=0)\n",
    "print('Test loss:', score[0])\n",
    "print('Test accuracy:', score[1])"
   ]
  },
  {
   "cell_type": "code",
   "execution_count": 121,
   "metadata": {},
   "outputs": [
    {
     "name": "stdout",
     "output_type": "stream",
     "text": [
      "(1, 32, 32, 3)\n",
      "[3]\n"
     ]
    },
    {
     "name": "stderr",
     "output_type": "stream",
     "text": [
      "Clipping input data to the valid range for imshow with RGB data ([0..1] for floats or [0..255] for integers).\n"
     ]
    },
    {
     "name": "stdout",
     "output_type": "stream",
     "text": [
      "(43,)\n",
      "ClassId: 3\n",
      "Label: Speed limit (60km/h)\n",
      "--- 7.164875030517578 seconds ---\n"
     ]
    },
    {
     "data": {
      "image/png": "[encoded data removed]",
      "text/plain": [
       "<Figure size 180x180 with 1 Axes>"
      ]
     },
     "metadata": {},
     "output_type": "display_data"
    }
   ],
   "source": [
    "%matplotlib inline\n",
    "start_time = time.time()\n",
    "\n",
    "# Preparing image for predicting from test dataset\n",
    "x_input = x_test[100:101]\n",
    "print(x_input.shape)\n",
    "y_input = y_test[100:101]\n",
    "print(y_input)\n",
    "\n",
    "plt.rcParams['figure.figsize'] = (2.5, 2.5) # Setting default size of plots\n",
    "plt.imshow(x_input[0, :, :, :])\n",
    "plt.axis('off')\n",
    "\n",
    "# Showing the plot\n",
    "#plt.show()\n",
    "\n",
    "# Getting scores from forward pass of input image\n",
    "scores = model.predict(x_input)\n",
    "print(scores[0].shape) # (43,)\n",
    "\n",
    "# Scores is given for image with 43 numbers of predictions for each class\n",
    "# Getting only one class with maximum value\n",
    "prediction = np.argmax(scores)\n",
    "print('ClassId:', prediction)\n",
    "\n",
    "# Defining function for getting texts for every class - labels\n",
    "def label_text(file):\n",
    "    # Defining list for saving label in order from 0 to 42\n",
    "    label_list = []\n",
    "    \n",
    "    # Reading 'csv' file and getting image's labels\n",
    "    r = pd.read_csv(file)\n",
    "    # Going through all names\n",
    "    for name in r['SignName']:\n",
    "        # Adding from every row second column with name of the label\n",
    "        label_list.append(name)\n",
    "    \n",
    "    # Returning resulted list with labels\n",
    "    return label_list\n",
    "\n",
    "\n",
    "# Getting labels\n",
    "labels = label_text('label_names.csv')\n",
    "\n",
    "# Printing label for classified Traffic Sign\n",
    "print('Label:', labels[prediction])\n",
    "\n",
    "print(\"--- %s seconds ---\" % (time.time() - start_time))\n",
    "    "
   ]
  },
  {
   "cell_type": "markdown",
   "metadata": {},
   "source": [
    "# Sequential Model"
   ]
  },
  {
   "cell_type": "code",
   "execution_count": 130,
   "metadata": {},
   "outputs": [],
   "source": [
    "model = Sequential()\n",
    "model.add(Conv2D(32, kernel_size=2, padding='same', activation='relu', input_shape=(32, 32, 3)))\n",
    "model.add(MaxPool2D(pool_size=2))\n",
    "model.add(Flatten())\n",
    "model.add(Dense(43, activation='softmax'))\n",
    "model.compile(optimizer='adam', loss='categorical_crossentropy', metrics=['accuracy'])"
   ]
  },
  {
   "cell_type": "code",
   "execution_count": 131,
   "metadata": {},
   "outputs": [
    {
     "name": "stdout",
     "output_type": "stream",
     "text": [
      "--- 285.28466725349426 seconds ---\n"
     ]
    }
   ],
   "source": [
    "start_time = time.time()\n",
    "model.fit(x_train, y_train, batch_size=5, epochs = 1, validation_data =\n",
    "         (x_validation, y_validation), verbose=0)\n",
    "print(\"--- %s seconds ---\" % (time.time() - start_time))"
   ]
  },
  {
   "cell_type": "code",
   "execution_count": 132,
   "metadata": {},
   "outputs": [
    {
     "name": "stdout",
     "output_type": "stream",
     "text": [
      "Test loss: 0.7859328536219607\n",
      "Test accuracy: 0.8233560091243579\n"
     ]
    }
   ],
   "source": [
    "score = model.evaluate(x_validation, y_validation, verbose=0)\n",
    "print('Test loss:', score[0])\n",
    "print('Test accuracy:', score[1])"
   ]
  },
  {
   "cell_type": "code",
   "execution_count": 133,
   "metadata": {},
   "outputs": [
    {
     "name": "stderr",
     "output_type": "stream",
     "text": [
      "Clipping input data to the valid range for imshow with RGB data ([0..1] for floats or [0..255] for integers).\n"
     ]
    },
    {
     "name": "stdout",
     "output_type": "stream",
     "text": [
      "(1, 32, 32, 3)\n",
      "[3]\n",
      "(43,)\n",
      "ClassId: 3\n",
      "Label: Speed limit (60km/h)\n",
      "--- 4.82908296585083 seconds ---\n"
     ]
    },
    {
     "data": {
      "image/png": "[encoded data removed]",
      "text/plain": [
       "<Figure size 180x180 with 1 Axes>"
      ]
     },
     "metadata": {},
     "output_type": "display_data"
    }
   ],
   "source": [
    "%matplotlib inline\n",
    "start_time = time.time()\n",
    "\n",
    "# Preparing image for predicting from test dataset\n",
    "x_input = x_test[100:101]\n",
    "print(x_input.shape)\n",
    "y_input = y_test[100:101]\n",
    "print(y_input)\n",
    "\n",
    "plt.rcParams['figure.figsize'] = (2.5, 2.5) # Setting default size of plots\n",
    "plt.imshow(x_input[0, :, :, :])\n",
    "plt.axis('off')\n",
    "\n",
    "# Showing the plot\n",
    "#plt.show()\n",
    "\n",
    "# Getting scores from forward pass of input image\n",
    "scores = model.predict(x_input)\n",
    "print(scores[0].shape) # (43,)\n",
    "\n",
    "# Scores is given for image with 43 numbers of predictions for each class\n",
    "# Getting only one class with maximum value\n",
    "prediction = np.argmax(scores)\n",
    "print('ClassId:', prediction)\n",
    "\n",
    "# Defining function for getting texts for every class - labels\n",
    "def label_text(file):\n",
    "    # Defining list for saving label in order from 0 to 42\n",
    "    label_list = []\n",
    "    \n",
    "    # Reading 'csv' file and getting image's labels\n",
    "    r = pd.read_csv(file)\n",
    "    # Going through all names\n",
    "    for name in r['SignName']:\n",
    "        # Adding from every row second column with name of the label\n",
    "        label_list.append(name)\n",
    "    \n",
    "    # Returning resulted list with labels\n",
    "    return label_list\n",
    "\n",
    "\n",
    "# Getting labels\n",
    "labels = label_text('label_names.csv')\n",
    "\n",
    "# Printing label for classified Traffic Sign\n",
    "print('Label:', labels[prediction])\n",
    "\n",
    "print(\"--- %s seconds ---\" % (time.time() - start_time))\n",
    "    "
   ]
  },
  {
   "cell_type": "markdown",
   "metadata": {},
   "source": [
    "# Conclusion\n",
    "\n",
    "My functional model performed its categorization in 7 seconds. My sequential model performed it in  5 seconds. Ultimately I would go with the sequential mode, but with the time it takes both models to classify, I wouldn;t use either in a slef-driving vehicle."
   ]
  },
  {
   "cell_type": "code",
   "execution_count": null,
   "metadata": {},
   "outputs": [],
   "source": []
  }
 ],
 "metadata": {
  "kernelspec": {
   "display_name": "Python 3",
   "language": "python",
   "name": "python3"
  },
  "language_info": {
   "codemirror_mode": {
    "name": "ipython",
    "version": 3
   },
   "file_extension": ".py",
   "mimetype": "text/x-python",
   "name": "python",
   "nbconvert_exporter": "python",
   "pygments_lexer": "ipython3",
   "version": "3.7.4"
  }
 },
 "nbformat": 4,
 "nbformat_minor": 2
}
