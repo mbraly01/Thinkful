{
 "cells": [
  {
   "cell_type": "code",
   "execution_count": 5,
   "metadata": {},
   "outputs": [],
   "source": [
    "import numpy as np\n",
    "import matplotlib.pyplot as plt\n",
    "\n",
    "from scipy.ndimage import convolve\n",
    "from sklearn import linear_model, datasets, metrics\n",
    "from sklearn.model_selection import train_test_split\n",
    "from sklearn.neural_network import BernoulliRBM\n",
    "from sklearn.pipeline import Pipeline\n",
    "from sklearn.base import clone"
   ]
  },
  {
   "cell_type": "code",
   "execution_count": 6,
   "metadata": {},
   "outputs": [],
   "source": [
    "def nudge_dataset(X, Y):\n",
    "    \"\"\"\n",
    "    This produces a dataset 5 times bigger than the original one,\n",
    "    by moving the 8x8 images in X around by 1px to left, right, down, up\n",
    "    \"\"\"\n",
    "    direction_vectors = [\n",
    "        [[0, 1, 0],\n",
    "         [0, 0, 0],\n",
    "         [0, 0, 0]],\n",
    "\n",
    "        [[0, 0, 0],\n",
    "         [1, 0, 0],\n",
    "         [0, 0, 0]],\n",
    "\n",
    "        [[0, 0, 0],\n",
    "         [0, 0, 1],\n",
    "         [0, 0, 0]],\n",
    "\n",
    "        [[0, 0, 0],\n",
    "         [0, 0, 0],\n",
    "         [0, 1, 0]]]\n",
    "\n",
    "    def shift(x, w):\n",
    "        return convolve(x.reshape((8, 8)), mode='constant', weights=w).ravel()\n",
    "\n",
    "    X = np.concatenate([X] +\n",
    "                       [np.apply_along_axis(shift, 1, X, vector)\n",
    "                        for vector in direction_vectors])\n",
    "    Y = np.concatenate([Y for _ in range(5)], axis=0)\n",
    "    return X, Y\n",
    "\n",
    "\n",
    "# Load Data\n",
    "digits = datasets.load_digits()\n",
    "X = np.asarray(digits.data, 'float32')\n",
    "X, Y = nudge_dataset(X, digits.target)\n",
    "X = (X - np.min(X, 0)) / (np.max(X, 0) + 0.0001)  # 0-1 scaling\n",
    "\n",
    "X_train, X_test, Y_train, Y_test = train_test_split(\n",
    "    X, Y, test_size=0.2, random_state=0)\n",
    "\n",
    "# Models we will use\n",
    "logistic = linear_model.LogisticRegression(solver='newton-cg', tol=1,\n",
    "                                           multi_class='multinomial')\n",
    "rbm = BernoulliRBM(random_state=0, verbose=True)\n",
    "\n",
    "rbm_features_classifier = Pipeline(\n",
    "    steps=[('rbm', rbm), ('logistic', logistic)])"
   ]
  },
  {
   "cell_type": "code",
   "execution_count": 7,
   "metadata": {},
   "outputs": [
    {
     "name": "stdout",
     "output_type": "stream",
     "text": [
      "[BernoulliRBM] Iteration 1, pseudo-likelihood = -25.39, time = 0.16s\n",
      "[BernoulliRBM] Iteration 2, pseudo-likelihood = -23.77, time = 0.22s\n",
      "[BernoulliRBM] Iteration 3, pseudo-likelihood = -22.94, time = 0.23s\n",
      "[BernoulliRBM] Iteration 4, pseudo-likelihood = -21.91, time = 0.21s\n",
      "[BernoulliRBM] Iteration 5, pseudo-likelihood = -21.69, time = 0.22s\n",
      "[BernoulliRBM] Iteration 6, pseudo-likelihood = -21.06, time = 0.22s\n",
      "[BernoulliRBM] Iteration 7, pseudo-likelihood = -20.89, time = 0.21s\n",
      "[BernoulliRBM] Iteration 8, pseudo-likelihood = -20.64, time = 0.23s\n",
      "[BernoulliRBM] Iteration 9, pseudo-likelihood = -20.36, time = 0.23s\n",
      "[BernoulliRBM] Iteration 10, pseudo-likelihood = -20.09, time = 0.24s\n",
      "[BernoulliRBM] Iteration 11, pseudo-likelihood = -20.08, time = 0.22s\n",
      "[BernoulliRBM] Iteration 12, pseudo-likelihood = -19.82, time = 0.26s\n",
      "[BernoulliRBM] Iteration 13, pseudo-likelihood = -19.64, time = 0.24s\n",
      "[BernoulliRBM] Iteration 14, pseudo-likelihood = -19.61, time = 0.21s\n",
      "[BernoulliRBM] Iteration 15, pseudo-likelihood = -19.57, time = 0.23s\n",
      "[BernoulliRBM] Iteration 16, pseudo-likelihood = -19.41, time = 0.22s\n",
      "[BernoulliRBM] Iteration 17, pseudo-likelihood = -19.30, time = 0.24s\n",
      "[BernoulliRBM] Iteration 18, pseudo-likelihood = -19.25, time = 0.22s\n",
      "[BernoulliRBM] Iteration 19, pseudo-likelihood = -19.27, time = 0.23s\n",
      "[BernoulliRBM] Iteration 20, pseudo-likelihood = -19.01, time = 0.21s\n"
     ]
    },
    {
     "data": {
      "text/plain": [
       "LogisticRegression(C=100.0, class_weight=None, dual=False, fit_intercept=True,\n",
       "                   intercept_scaling=1, l1_ratio=None, max_iter=100,\n",
       "                   multi_class='multinomial', n_jobs=None, penalty='l2',\n",
       "                   random_state=None, solver='newton-cg', tol=1, verbose=0,\n",
       "                   warm_start=False)"
      ]
     },
     "execution_count": 7,
     "metadata": {},
     "output_type": "execute_result"
    }
   ],
   "source": [
    "# Hyper-parameters. These were set by cross-validation,\n",
    "# using a GridSearchCV. Here we are not performing cross-validation to\n",
    "# save time.\n",
    "rbm.learning_rate = 0.06\n",
    "rbm.n_iter = 20\n",
    "# More components tend to give better prediction performance, but larger\n",
    "# fitting time\n",
    "rbm.n_components = 100\n",
    "logistic.C = 6000\n",
    "\n",
    "# Training RBM-Logistic Pipeline\n",
    "rbm_features_classifier.fit(X_train, Y_train)\n",
    "\n",
    "# Training the Logistic regression classifier directly on the pixel\n",
    "raw_pixel_classifier = clone(logistic)\n",
    "raw_pixel_classifier.C = 100.\n",
    "raw_pixel_classifier.fit(X_train, Y_train)\n"
   ]
  },
  {
   "cell_type": "code",
   "execution_count": 8,
   "metadata": {},
   "outputs": [
    {
     "name": "stdout",
     "output_type": "stream",
     "text": [
      "Logistic regression using RBM features:\n",
      "              precision    recall  f1-score   support\n",
      "\n",
      "           0       0.99      0.98      0.99       174\n",
      "           1       0.90      0.91      0.91       184\n",
      "           2       0.92      0.95      0.93       166\n",
      "           3       0.97      0.89      0.93       194\n",
      "           4       0.96      0.93      0.95       186\n",
      "           5       0.93      0.93      0.93       181\n",
      "           6       0.98      0.97      0.98       207\n",
      "           7       0.92      0.99      0.95       154\n",
      "           8       0.90      0.90      0.90       182\n",
      "           9       0.91      0.93      0.92       169\n",
      "\n",
      "    accuracy                           0.94      1797\n",
      "   macro avg       0.94      0.94      0.94      1797\n",
      "weighted avg       0.94      0.94      0.94      1797\n",
      "\n",
      "\n",
      "Logistic regression using raw pixel features:\n",
      "              precision    recall  f1-score   support\n",
      "\n",
      "           0       0.90      0.91      0.91       174\n",
      "           1       0.60      0.58      0.59       184\n",
      "           2       0.75      0.85      0.80       166\n",
      "           3       0.78      0.78      0.78       194\n",
      "           4       0.81      0.84      0.82       186\n",
      "           5       0.76      0.77      0.77       181\n",
      "           6       0.91      0.87      0.89       207\n",
      "           7       0.85      0.88      0.87       154\n",
      "           8       0.66      0.57      0.61       182\n",
      "           9       0.75      0.76      0.76       169\n",
      "\n",
      "    accuracy                           0.78      1797\n",
      "   macro avg       0.78      0.78      0.78      1797\n",
      "weighted avg       0.78      0.78      0.78      1797\n",
      "\n",
      "\n"
     ]
    }
   ],
   "source": [
    "Y_pred = rbm_features_classifier.predict(X_test)\n",
    "print(\"Logistic regression using RBM features:\\n%s\\n\" % (\n",
    "    metrics.classification_report(Y_test, Y_pred)))\n",
    "\n",
    "Y_pred = raw_pixel_classifier.predict(X_test)\n",
    "print(\"Logistic regression using raw pixel features:\\n%s\\n\" % (\n",
    "    metrics.classification_report(Y_test, Y_pred)))"
   ]
  },
  {
   "cell_type": "code",
   "execution_count": 9,
   "metadata": {},
   "outputs": [
    {
     "data": {
      "image/png": "[encoded data removed]",
      "text/plain": [
       "<Figure size 302.4x288 with 100 Axes>"
      ]
     },
     "metadata": {},
     "output_type": "display_data"
    }
   ],
   "source": [
    "plt.figure(figsize=(4.2, 4))\n",
    "for i, comp in enumerate(rbm.components_):\n",
    "    plt.subplot(10, 10, i + 1)\n",
    "    plt.imshow(comp.reshape((8, 8)), cmap=plt.cm.gray_r,\n",
    "               interpolation='nearest')\n",
    "    plt.xticks(())\n",
    "    plt.yticks(())\n",
    "plt.suptitle('100 components extracted by RBM', fontsize=16)\n",
    "plt.subplots_adjust(0.08, 0.02, 0.92, 0.85, 0.08, 0.23)\n",
    "\n",
    "plt.show()"
   ]
  },
  {
   "cell_type": "code",
   "execution_count": null,
   "metadata": {},
   "outputs": [],
   "source": []
  }
 ],
 "metadata": {
  "kernelspec": {
   "display_name": "Python 3",
   "language": "python",
   "name": "python3"
  },
  "language_info": {
   "codemirror_mode": {
    "name": "ipython",
    "version": 3
   },
   "file_extension": ".py",
   "mimetype": "text/x-python",
   "name": "python",
   "nbconvert_exporter": "python",
   "pygments_lexer": "ipython3",
   "version": "3.7.4"
  }
 },
 "nbformat": 4,
 "nbformat_minor": 2
}
