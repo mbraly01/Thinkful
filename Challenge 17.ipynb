{
 "cells": [
  {
   "cell_type": "code",
   "execution_count": null,
   "metadata": {},
   "outputs": [],
   "source": [
    "import pandas as pd\n",
    "import numpy as np\n",
    "import matplotlib.pyplot as plt\n",
    "import seaborn as sns\n",
    "import math\n",
    "import matplotlib.mlab as mlabPCA\n",
    "from scipy.stats.mstats import winsorize\n",
    "from sklearn.preprocessing import StandardScaler\n",
    "from sklearn.decomposition import PCA\n",
    "from sqlalchemy import create_engine\n",
    "import warnings\n",
    "\n",
    "warnings.filterwarnings('ignore')\n",
    "sns.set_style(\"whitegrid\")\n",
    "\n",
    "postgres_user = 'dsbc_student'\n",
    "postgres_pw = '7*.8G9QH21'\n",
    "postgres_host = '142.93.121.174'\n",
    "postgres_port = '5432'\n",
    "postgres_db = 'lifeexpectancy'\n",
    "\n",
    "engine = create_engine('postgresql://{}:{}@{}:{}/{}'.format(\n",
    "    postgres_user, postgres_pw, postgres_host, postgres_port, postgres_db))\n",
    "\n",
    "life_df = pd.read_sql_query(\n",
    "    'select * from lifeexpectancy',con=engine)\n",
    "engine.dispose()\n",
    "\n",
    "cols = life_df.columns\n",
    "\n",
    "numeric_cols = [x for x in cols if x not in ('Country','Year','Status')]\n",
    "\n",
    "life_var = []\n",
    "print(life_df.info())\n",
    "for i in life_df:\n",
    "    life_var.append(i)"
   ]
  },
  {
   "cell_type": "markdown",
   "metadata": {},
   "source": [
    "There are 22 variables\n",
    "There are 64636 datapoints\n",
    "Categorical variables: Country, Year, Status, Schooling\n",
    "Continous variables: Life expectancy, Adult Mortality, Infant Deaths, Alchohol, Percentage expenditure, Hepatitus B, Measles, Under five deaths, Polio, Total expenditure, Diptheria, HIV/AIDS, GDP, Population, Thinness 1-19 years, thinness 5-9 years, income composition of resources, BMI"
   ]
  },
  {
   "cell_type": "code",
   "execution_count": null,
   "metadata": {},
   "outputs": [],
   "source": [
    "for i in life_df:\n",
    "    if i != 'Country' and i != 'Status':\n",
    "        life_df[i].fillna(life_df[i].mean(), inplace=True)\n",
    "        life_df[i] = winsorize(life_df[i], (0, 0.10))"
   ]
  },
  {
   "cell_type": "markdown",
   "metadata": {},
   "source": [
    "Data missing:\n",
    "There weren't that many missing values, so instead of dropping the entries, I filled them with the mean\n",
    "I winsorized the values with high outliers, since I wanted to make sure the outliers didin't have an outsized impact on my data\n",
    "\n",
    "Univariate Visualization:\n",
    "Histograms of all variables except for country"
   ]
  },
  {
   "cell_type": "code",
   "execution_count": null,
   "metadata": {},
   "outputs": [],
   "source": [
    "for i in life_df:\n",
    "    if i != 'Country':\n",
    "        plt.hist(life_df[i])\n",
    "        plt.title(\"hist of {}\".format(i))\n",
    "        plt.show()"
   ]
  },
  {
   "cell_type": "markdown",
   "metadata": {},
   "source": [
    "Probability distributions:\n",
    "Normal distributions - total expenditure"
   ]
  },
  {
   "cell_type": "code",
   "execution_count": null,
   "metadata": {},
   "outputs": [],
   "source": [
    "print(life_df.describe())\n",
    "\n",
    "for i in life_df:\n",
    "    if i != 'Country' and i != 'Status'and i != 'Year':\n",
    "        print(i)\n",
    "        print(life_df[i].mean())\n",
    "        print(life_df[i].median())\n",
    "\n",
    "        print(life_df[i].mode())"
   ]
  },
  {
   "cell_type": "markdown",
   "metadata": {},
   "source": [
    "above, you can access the central tendencies of each variable"
   ]
  },
  {
   "cell_type": "markdown",
   "metadata": {},
   "source": [
    "for i in life_df:\n",
    "    if i != 'Country' and i != 'Status'and i != 'Year':\n",
    "        print(i)\n",
    "        print(life_df[i].var())"
   ]
  },
  {
   "cell_type": "markdown",
   "metadata": {},
   "source": [
    "above, you can access the variance in each variable\n",
    "\n",
    "Bivariate analysis:"
   ]
  },
  {
   "cell_type": "code",
   "execution_count": null,
   "metadata": {},
   "outputs": [],
   "source": [
    "sns.heatmap(life_df.corr(), square=True, annot=True, linewidths=.5)\n",
    "plt.title(\"correlation matrix\")\n",
    "plt.show()"
   ]
  },
  {
   "cell_type": "markdown",
   "metadata": {},
   "source": [
    "The highest correlations with life expectancy seem to be Schooling, Income composition of resources, and BMI\n",
    "\n",
    "Bivariate vizualization"
   ]
  },
  {
   "cell_type": "code",
   "execution_count": null,
   "metadata": {},
   "outputs": [],
   "source": [
    "g = sns.lmplot(y='Life expectancy ', x='Schooling', data=life_df, fit_reg=True,\n",
    "               scatter_kws={'alpha':0.4})\n",
    "g.set_ylabels(\"Life expectancy\")\n",
    "g.set_xlabels(\"Schooling\")\n",
    "plt.title('Scatterplot with regression line: Life expectancy by schooling')\n",
    "plt.show()\n",
    "\n",
    "g = sns.lmplot(y='Life expectancy ',\n",
    "                x='Income composition of resources',\n",
    "                data=life_df, fit_reg=True,\n",
    "               scatter_kws={'alpha':0.4})\n",
    "g.set_ylabels(\"Life expectancy\")\n",
    "g.set_xlabels(\"Income composition of resources\")\n",
    "plt.title(\n",
    "    'Scatterplot with regression line: Life expectancy by Income composition of resources')\n",
    "plt.show()\n",
    "\n",
    "g = sns.lmplot(y='Life expectancy ',\n",
    "                x=life_var[10],\n",
    "                data=life_df, fit_reg=True,\n",
    "               scatter_kws={'alpha':0.4})\n",
    "g.set_ylabels(\"Life expectancy\")\n",
    "g.set_xlabels(\"BMI\")\n",
    "plt.title('Scatterplot with regression line: Life expectancy by BMI')\n",
    "plt.show()"
   ]
  },
  {
   "cell_type": "markdown",
   "metadata": {},
   "source": [
    "After looking at the multivariate analysis, as well as the correlations, I would remove thinness 1-19 years and thinness 5-9 years, as they are highly correlated to\n",
    "eachother, but not correlated to our main variable, life expectancy. I would do the same for under five deaths and infant deaths. Diptheria and Polio are highly correlated to eachother, but they are also. fairly correlated to life expectancy, so they will not be removed. \n",
    "\n",
    "Summary:\n",
    "Life expectancy is strongly correlated to schooling, income composition of resources, and BMI. This makes sense as people with more schooling may know the proper channels for receiving care, people with more income will be able to afford care, and people with higher BMIs are more likely to have more income to spend on food and health services. Thinness from ages 1-19 are not good indicaters of BMI, as children tend to be smaller, and there is a smaller window in terms of BMI score (for example, An adult might be of proper weight\n",
    "from 160 to 200 while a child may be of appropriate weight from 60 to 80.)"
   ]
  }
 ],
 "metadata": {
  "kernelspec": {
   "display_name": "Python 3",
   "language": "python",
   "name": "python3"
  },
  "language_info": {
   "codemirror_mode": {
    "name": "ipython",
    "version": 3
   },
   "file_extension": ".py",
   "mimetype": "text/x-python",
   "name": "python",
   "nbconvert_exporter": "python",
   "pygments_lexer": "ipython3",
   "version": "3.7.4"
  }
 },
 "nbformat": 4,
 "nbformat_minor": 2
}
